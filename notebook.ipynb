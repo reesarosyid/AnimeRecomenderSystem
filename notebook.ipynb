{
 "cells": [
  {
   "cell_type": "markdown",
   "metadata": {},
   "source": [
    "<br>\n",
    "<br>\n",
    "\n",
    "<p style=\"font-size: 30px; text-align: center; \"><b>Anime Recommendation System</b></p>\n",
    "\n",
    "<br>\n",
    "<br>"
   ]
  },
  {
   "cell_type": "markdown",
   "metadata": {},
   "source": [
    "Nama    : Muhammad Reesa Rosyid\n",
    "\n",
    "Email   : mreesa669@gmail.com"
   ]
  },
  {
   "cell_type": "markdown",
   "metadata": {},
   "source": [
    "<h1 align='center'>Project Overview</h1>\n",
    "\n",
    "***"
   ]
  },
  {
   "cell_type": "markdown",
   "metadata": {},
   "source": [
    "Sistem rekomendasi adalah aplikasi yang sangat berguna dalam menghadirkan konten yang relevan kepada pengguna berdasarkan preferensi mereka[1]. Dalam konteks anime, sistem rekomendasi dapat membantu penggemar menemukan anime yang sesuai dengan minat dan selera mereka. Ada dua pendekatan utama yang digunakan dalam pengembangan sistem rekomendasi anime: content-based filtering dan collaborative filtering. Content-based filtering adalah salah satu metode rekomendasi yang mengandalkan analisis konten atau atribut dari item yang direkomendasikan[2]. Dalam konteks anime, atribut ini dapat mencakup genre, direktur, studio produksi, karakteristik plot, dan lain sebagainya. Sistem content-based filtering akan membandingkan preferensi pengguna dengan atribut-atribut ini untuk menyajikan rekomendasi yang cocok. Collaborative filtering adalah metode rekomendasi yang mengandalkan informasi dari pengguna lain untuk membuat rekomendasi[3]. Ini memanfaatkan pola perilaku pengguna yang mirip atau data historis dari sejumlah besar pengguna untuk menyajikan rekomendasi yang relevan. Dalam konteks anime, ini bisa berarti mengidentifikasi pengguna dengan minat yang serupa dan merekomendasikan anime yang disukai oleh pengguna serupa."
   ]
  },
  {
   "cell_type": "markdown",
   "metadata": {},
   "source": [
    "<h1 align='center'>Business Understanding</h1>\n",
    "\n",
    "***"
   ]
  },
  {
   "cell_type": "markdown",
   "metadata": {},
   "source": [
    "## Problem Statement"
   ]
  },
  {
   "cell_type": "markdown",
   "metadata": {},
   "source": [
    "1. Bagaimana cara mendapatkan rekomendasi anime sesuai dengan genre yang pengguna suka?\n",
    "2. Bagaimana cara mendapatkan rekomendasi anime berdasarkan aktivitas rating pengguna lain?"
   ]
  },
  {
   "cell_type": "markdown",
   "metadata": {},
   "source": [
    "## Goals"
   ]
  },
  {
   "cell_type": "markdown",
   "metadata": {},
   "source": [
    "1. Mendapatkan rekomendasi anime sesuai dengan genre yang pengguna suka dapat dibuat dengan metode system recomendation Contents Based Filtering.\n",
    "2. Mendapatkan rekomendasi anime berdasarkan aktivitas rating pengguna lain dapat dibuat dengan metode system recomendation Collaborative Filtering."
   ]
  },
  {
   "cell_type": "markdown",
   "metadata": {},
   "source": [
    "<h1 align='center'>Data Understanding</h1>\n",
    "\n",
    "***"
   ]
  },
  {
   "cell_type": "markdown",
   "metadata": {},
   "source": [
    "Dataset ini merupakan data yang terdapat preferensi pengguna dari 73,516 orang terhadap 12,294 judul anime. Setiap pengguna dapat menambahkan anime yang dia sudah tonton dan dapat pula memberikan rating. Sehingga data ini juga merupakan kompilasi dari rating tersebut. Dataset ini dibagai ke dalam dua dokumen csv, yaitu anime.csv dan rating.csv. Perbedaan dari kedua data tersebut ialah, data anime.csv menampilkan title anime dan rating anime tersebut secara menyeluruh, sedangkan data rating.csv menampilkan rating yang telah diberikan oleh user.  Dataset ini penulis dapatkan dari kaggle dengan link sebagai berikut: [Link Dataset](https://www.kaggle.com/datasets/CooperUnion/anime-recommendations-database)."
   ]
  },
  {
   "cell_type": "markdown",
   "metadata": {},
   "source": [
    "## Import Library"
   ]
  },
  {
   "cell_type": "code",
   "execution_count": 1,
   "metadata": {},
   "outputs": [],
   "source": [
    "import numpy as np\n",
    "import pandas as pd\n",
    "import matplotlib.pyplot as plt\n",
    "import seaborn as sns\n",
    "from sklearn.feature_extraction.text import TfidfVectorizer\n",
    "from sklearn.metrics.pairwise import cosine_similarity\n",
    "import tensorflow as tf\n",
    "from tensorflow import keras\n",
    "from tensorflow.keras import layers"
   ]
  },
  {
   "cell_type": "markdown",
   "metadata": {},
   "source": [
    "## Data Loading"
   ]
  },
  {
   "cell_type": "code",
   "execution_count": 2,
   "metadata": {},
   "outputs": [],
   "source": [
    "# Data loading\n",
    "anime_df = pd.read_csv(\"./anime.csv\")\n",
    "rating_df = pd.read_csv(\"./rating.csv\")"
   ]
  },
  {
   "cell_type": "code",
   "execution_count": 3,
   "metadata": {},
   "outputs": [
    {
     "data": {
      "text/html": [
       "<div>\n",
       "<style scoped>\n",
       "    .dataframe tbody tr th:only-of-type {\n",
       "        vertical-align: middle;\n",
       "    }\n",
       "\n",
       "    .dataframe tbody tr th {\n",
       "        vertical-align: top;\n",
       "    }\n",
       "\n",
       "    .dataframe thead th {\n",
       "        text-align: right;\n",
       "    }\n",
       "</style>\n",
       "<table border=\"1\" class=\"dataframe\">\n",
       "  <thead>\n",
       "    <tr style=\"text-align: right;\">\n",
       "      <th></th>\n",
       "      <th>anime_id</th>\n",
       "      <th>name</th>\n",
       "      <th>genre</th>\n",
       "      <th>type</th>\n",
       "      <th>episodes</th>\n",
       "      <th>rating</th>\n",
       "      <th>members</th>\n",
       "    </tr>\n",
       "  </thead>\n",
       "  <tbody>\n",
       "    <tr>\n",
       "      <th>0</th>\n",
       "      <td>32281</td>\n",
       "      <td>Kimi no Na wa.</td>\n",
       "      <td>Drama, Romance, School, Supernatural</td>\n",
       "      <td>Movie</td>\n",
       "      <td>1</td>\n",
       "      <td>9.37</td>\n",
       "      <td>200630</td>\n",
       "    </tr>\n",
       "    <tr>\n",
       "      <th>1</th>\n",
       "      <td>5114</td>\n",
       "      <td>Fullmetal Alchemist: Brotherhood</td>\n",
       "      <td>Action, Adventure, Drama, Fantasy, Magic, Mili...</td>\n",
       "      <td>TV</td>\n",
       "      <td>64</td>\n",
       "      <td>9.26</td>\n",
       "      <td>793665</td>\n",
       "    </tr>\n",
       "    <tr>\n",
       "      <th>2</th>\n",
       "      <td>28977</td>\n",
       "      <td>Gintama°</td>\n",
       "      <td>Action, Comedy, Historical, Parody, Samurai, S...</td>\n",
       "      <td>TV</td>\n",
       "      <td>51</td>\n",
       "      <td>9.25</td>\n",
       "      <td>114262</td>\n",
       "    </tr>\n",
       "    <tr>\n",
       "      <th>3</th>\n",
       "      <td>9253</td>\n",
       "      <td>Steins;Gate</td>\n",
       "      <td>Sci-Fi, Thriller</td>\n",
       "      <td>TV</td>\n",
       "      <td>24</td>\n",
       "      <td>9.17</td>\n",
       "      <td>673572</td>\n",
       "    </tr>\n",
       "    <tr>\n",
       "      <th>4</th>\n",
       "      <td>9969</td>\n",
       "      <td>Gintama&amp;#039;</td>\n",
       "      <td>Action, Comedy, Historical, Parody, Samurai, S...</td>\n",
       "      <td>TV</td>\n",
       "      <td>51</td>\n",
       "      <td>9.16</td>\n",
       "      <td>151266</td>\n",
       "    </tr>\n",
       "  </tbody>\n",
       "</table>\n",
       "</div>"
      ],
      "text/plain": [
       "   anime_id                              name   \n",
       "0     32281                    Kimi no Na wa.  \\\n",
       "1      5114  Fullmetal Alchemist: Brotherhood   \n",
       "2     28977                          Gintama°   \n",
       "3      9253                       Steins;Gate   \n",
       "4      9969                     Gintama&#039;   \n",
       "\n",
       "                                               genre   type episodes  rating   \n",
       "0               Drama, Romance, School, Supernatural  Movie        1    9.37  \\\n",
       "1  Action, Adventure, Drama, Fantasy, Magic, Mili...     TV       64    9.26   \n",
       "2  Action, Comedy, Historical, Parody, Samurai, S...     TV       51    9.25   \n",
       "3                                   Sci-Fi, Thriller     TV       24    9.17   \n",
       "4  Action, Comedy, Historical, Parody, Samurai, S...     TV       51    9.16   \n",
       "\n",
       "   members  \n",
       "0   200630  \n",
       "1   793665  \n",
       "2   114262  \n",
       "3   673572  \n",
       "4   151266  "
      ]
     },
     "execution_count": 3,
     "metadata": {},
     "output_type": "execute_result"
    }
   ],
   "source": [
    "# Melihat anime_df\n",
    "anime_df.head()"
   ]
  },
  {
   "cell_type": "code",
   "execution_count": 4,
   "metadata": {},
   "outputs": [
    {
     "name": "stdout",
     "output_type": "stream",
     "text": [
      "<class 'pandas.core.frame.DataFrame'>\n",
      "RangeIndex: 12294 entries, 0 to 12293\n",
      "Data columns (total 7 columns):\n",
      " #   Column    Non-Null Count  Dtype  \n",
      "---  ------    --------------  -----  \n",
      " 0   anime_id  12294 non-null  int64  \n",
      " 1   name      12294 non-null  object \n",
      " 2   genre     12232 non-null  object \n",
      " 3   type      12269 non-null  object \n",
      " 4   episodes  12294 non-null  object \n",
      " 5   rating    12064 non-null  float64\n",
      " 6   members   12294 non-null  int64  \n",
      "dtypes: float64(1), int64(2), object(4)\n",
      "memory usage: 672.5+ KB\n"
     ]
    }
   ],
   "source": [
    "# Info dari anime_df\n",
    "anime_df.info()"
   ]
  },
  {
   "cell_type": "code",
   "execution_count": 5,
   "metadata": {},
   "outputs": [
    {
     "data": {
      "text/html": [
       "<div>\n",
       "<style scoped>\n",
       "    .dataframe tbody tr th:only-of-type {\n",
       "        vertical-align: middle;\n",
       "    }\n",
       "\n",
       "    .dataframe tbody tr th {\n",
       "        vertical-align: top;\n",
       "    }\n",
       "\n",
       "    .dataframe thead th {\n",
       "        text-align: right;\n",
       "    }\n",
       "</style>\n",
       "<table border=\"1\" class=\"dataframe\">\n",
       "  <thead>\n",
       "    <tr style=\"text-align: right;\">\n",
       "      <th></th>\n",
       "      <th>user_id</th>\n",
       "      <th>anime_id</th>\n",
       "      <th>rating</th>\n",
       "    </tr>\n",
       "  </thead>\n",
       "  <tbody>\n",
       "    <tr>\n",
       "      <th>0</th>\n",
       "      <td>1</td>\n",
       "      <td>20</td>\n",
       "      <td>-1</td>\n",
       "    </tr>\n",
       "    <tr>\n",
       "      <th>1</th>\n",
       "      <td>1</td>\n",
       "      <td>24</td>\n",
       "      <td>-1</td>\n",
       "    </tr>\n",
       "    <tr>\n",
       "      <th>2</th>\n",
       "      <td>1</td>\n",
       "      <td>79</td>\n",
       "      <td>-1</td>\n",
       "    </tr>\n",
       "    <tr>\n",
       "      <th>3</th>\n",
       "      <td>1</td>\n",
       "      <td>226</td>\n",
       "      <td>-1</td>\n",
       "    </tr>\n",
       "    <tr>\n",
       "      <th>4</th>\n",
       "      <td>1</td>\n",
       "      <td>241</td>\n",
       "      <td>-1</td>\n",
       "    </tr>\n",
       "    <tr>\n",
       "      <th>...</th>\n",
       "      <td>...</td>\n",
       "      <td>...</td>\n",
       "      <td>...</td>\n",
       "    </tr>\n",
       "    <tr>\n",
       "      <th>95</th>\n",
       "      <td>1</td>\n",
       "      <td>14749</td>\n",
       "      <td>-1</td>\n",
       "    </tr>\n",
       "    <tr>\n",
       "      <th>96</th>\n",
       "      <td>1</td>\n",
       "      <td>14813</td>\n",
       "      <td>-1</td>\n",
       "    </tr>\n",
       "    <tr>\n",
       "      <th>97</th>\n",
       "      <td>1</td>\n",
       "      <td>14833</td>\n",
       "      <td>-1</td>\n",
       "    </tr>\n",
       "    <tr>\n",
       "      <th>98</th>\n",
       "      <td>1</td>\n",
       "      <td>14967</td>\n",
       "      <td>-1</td>\n",
       "    </tr>\n",
       "    <tr>\n",
       "      <th>99</th>\n",
       "      <td>1</td>\n",
       "      <td>15117</td>\n",
       "      <td>-1</td>\n",
       "    </tr>\n",
       "  </tbody>\n",
       "</table>\n",
       "<p>100 rows × 3 columns</p>\n",
       "</div>"
      ],
      "text/plain": [
       "    user_id  anime_id  rating\n",
       "0         1        20      -1\n",
       "1         1        24      -1\n",
       "2         1        79      -1\n",
       "3         1       226      -1\n",
       "4         1       241      -1\n",
       "..      ...       ...     ...\n",
       "95        1     14749      -1\n",
       "96        1     14813      -1\n",
       "97        1     14833      -1\n",
       "98        1     14967      -1\n",
       "99        1     15117      -1\n",
       "\n",
       "[100 rows x 3 columns]"
      ]
     },
     "execution_count": 5,
     "metadata": {},
     "output_type": "execute_result"
    }
   ],
   "source": [
    "# Melihat data rating_df\n",
    "rating_df.head(100)"
   ]
  },
  {
   "cell_type": "code",
   "execution_count": 6,
   "metadata": {},
   "outputs": [
    {
     "name": "stdout",
     "output_type": "stream",
     "text": [
      "<class 'pandas.core.frame.DataFrame'>\n",
      "RangeIndex: 7813737 entries, 0 to 7813736\n",
      "Data columns (total 3 columns):\n",
      " #   Column    Dtype\n",
      "---  ------    -----\n",
      " 0   user_id   int64\n",
      " 1   anime_id  int64\n",
      " 2   rating    int64\n",
      "dtypes: int64(3)\n",
      "memory usage: 178.8 MB\n"
     ]
    }
   ],
   "source": [
    "# Info dari rating_df\n",
    "rating_df.info()"
   ]
  },
  {
   "cell_type": "code",
   "execution_count": 7,
   "metadata": {},
   "outputs": [
    {
     "name": "stdout",
     "output_type": "stream",
     "text": [
      "Total film anime pada anime_df sebanyak 12294\n",
      "Jumlah user pada rating_df sebanyak 73515\n"
     ]
    }
   ],
   "source": [
    "# Akan dilihat total unique value pada anime_id dan user_id agar diketahui jumlah totalnya\n",
    "print(f\"Total film anime pada anime_df sebanyak {len(anime_df['anime_id'].unique())}\")\n",
    "print(f\"Jumlah user pada rating_df sebanyak {len(rating_df['user_id'].unique())}\")"
   ]
  },
  {
   "cell_type": "markdown",
   "metadata": {},
   "source": [
    "## Univariate Exploratory Data Analysis\n",
    "\n",
    "<b>CONTENT</b>\n",
    "\n",
    "Anime.csv:\n",
    "* anime_id: id unik yang berasal dari [MyAnimeList.net](https://myanimelist.net/).\n",
    "* name: judul dari anime.\n",
    "* genre: genre dari anime tersebut.\n",
    "* type: tipe dari anime tersebut. Seperti movie, TV, OVA, dan sebagainya.\n",
    "* episodes: berapa banyak episode dalam anime tersebut. Jika hanya 1 episode maka dipastikan anime tersebut merupakan tipe movie.\n",
    "* rating: rating ini merupakan rata-rata yang diberikan dari semua user.\n",
    "* member: angka dari komunitas member yang berada pada grup suatu anime. Dengan kata lain, member merupakan total fanbase pada anime tersebut.\n",
    "\n",
    "Rating.csv:\n",
    "* user_id: id pengguna yang dihasilkan secara acak dan tidak dapat diidentifikasi.\n",
    "* anime_id: sebuah anime yang telah di rating oleh user.\n",
    "* rating: rating yang diberikan oleh user. Jika terdapat value -1, maka user telah menonton anime tersebut namun tidak memberikan rating.\n",
    "\n",
    "### Feature Genre"
   ]
  },
  {
   "cell_type": "markdown",
   "metadata": {},
   "source": [
    "Pada bagian ini, akan dilihat genre apa yang paling banyak pada dataset tersebut."
   ]
  },
  {
   "cell_type": "code",
   "execution_count": 8,
   "metadata": {},
   "outputs": [],
   "source": [
    "# Define a function to handle the conversion\n",
    "def convert_to_list(x):\n",
    "    if isinstance(x, str):\n",
    "        return x.split(', ')\n",
    "    else:\n",
    "        return []  # Handle non-string values"
   ]
  },
  {
   "cell_type": "code",
   "execution_count": 9,
   "metadata": {},
   "outputs": [
    {
     "data": {
      "text/plain": [
       "<Axes: title={'center': 'Top 10 Genre Anime'}, xlabel='genre', ylabel='Count'>"
      ]
     },
     "execution_count": 9,
     "metadata": {},
     "output_type": "execute_result"
    },
    {
     "data": {
      "image/png": "[encoded data removed]",
      "text/plain": [
       "<Figure size 1200x800 with 1 Axes>"
      ]
     },
     "metadata": {},
     "output_type": "display_data"
    }
   ],
   "source": [
    "# Menggunakan .apply() untuk memisahkan teks menjadi daftar\n",
    "anime_df['genre'] = anime_df['genre'].apply(convert_to_list)\n",
    "\n",
    "# Mengekspansi kolom 'Genre' menjadi beberapa baris\n",
    "df_genre_exploded = anime_df.explode('genre')\n",
    "\n",
    "# Mengakses nilai unik dalam kolom 'Genre' yang sudah diexplode\n",
    "unique_genres = df_genre_exploded['genre'].unique()\n",
    "\n",
    "plt.figure(figsize=(12,8))\n",
    "plt.xlabel('Frequency')\n",
    "plt.ylabel(\"Count\", fontsize=13)\n",
    "plt.subplots_adjust(hspace=1, wspace=0.3)\n",
    "plt.xticks(rotation=45)\n",
    "plt.title(\"Top 10 Genre Anime\")\n",
    "plt.grid(True)\n",
    "plt.xticks(rotation=45)\n",
    "sns.barplot(x=df_genre_exploded[\"genre\"].value_counts().index[:10], y=df_genre_exploded[\"genre\"].value_counts().values[:10])"
   ]
  },
  {
   "cell_type": "markdown",
   "metadata": {},
   "source": [
    "Genre yang paling banyak pada dataset tersebut adalah comedy dengan jumlah lebih dari 4000 judul anime yang mengusung genre comedy, lalu di ikuti oleh action, dan seterusnya."
   ]
  },
  {
   "cell_type": "markdown",
   "metadata": {},
   "source": [
    "### Feature Type"
   ]
  },
  {
   "cell_type": "markdown",
   "metadata": {},
   "source": [
    "Akan dilihat dari feature Type, tipe anime apa saja yang paling banyak pada dataset tersebut."
   ]
  },
  {
   "cell_type": "code",
   "execution_count": 52,
   "metadata": {},
   "outputs": [
    {
     "data": {
      "image/png": "[encoded data removed]",
      "text/plain": [
       "<Figure size 640x480 with 1 Axes>"
      ]
     },
     "metadata": {},
     "output_type": "display_data"
    }
   ],
   "source": [
    "labels = anime_df['type'].unique()\n",
    "labels = labels[:-1]\n",
    "value = anime_df['type'].value_counts().tolist()\n",
    "tot = sum(value)\n",
    "percentages = [(value / tot) * 100 for value in value]\n",
    "\n",
    "# Create a pie chart with value percentages inside\n",
    "plt.pie(value, labels=labels, autopct='%.1f%%', startangle=140)\n",
    "\n",
    "# Draw center circle to make it look like a donut chart\n",
    "centre_circle = plt.Circle((0,0),0.70,fc='white')\n",
    "fig = plt.gcf()\n",
    "fig.gca().add_artist(centre_circle)\n",
    "\n",
    "# Equal aspect ratio ensures that pie is drawn as a circle.\n",
    "plt.tight_layout()\n",
    "plt.title(\"Type proportion\")\n",
    "plt.show()"
   ]
  },
  {
   "cell_type": "markdown",
   "metadata": {},
   "source": [
    "Dapat dilihat anime move dan TV memiliki prosentase paling tinggi yaitu movie berjumlah 30.9% dan TV 27%."
   ]
  },
  {
   "cell_type": "markdown",
   "metadata": {},
   "source": [
    "### Feature Rating & Members"
   ]
  },
  {
   "cell_type": "markdown",
   "metadata": {},
   "source": [
    "Pada bagian ini akan dilihat anime dengan rating tertinggi dan member terbanyak. Perlu diketahui bahwa suatu anime yang mendapatkan rating tinggi bukan berarti anime tersebut bagus secara keseluruhan. Sebagai contoh, misalkan terdapat anime A dengan rating 9.7/10 namun anime tersebut hanya memiliki member <100 orang, dan anime B dengan rating 8.5/10 namun memiliki member >1000000 orang. Maka anime A belum tentu lebih baik dari pada Anime B secara keseluruhan. Hal itu dapat dibuktikan dengan bar chart di bawah ini."
   ]
  },
  {
   "cell_type": "code",
   "execution_count": 11,
   "metadata": {},
   "outputs": [
    {
     "data": {
      "image/png": "[encoded data removed]",
      "text/plain": [
       "<Figure size 1000x600 with 1 Axes>"
      ]
     },
     "metadata": {},
     "output_type": "display_data"
    },
    {
     "data": {
      "text/html": [
       "<div>\n",
       "<style scoped>\n",
       "    .dataframe tbody tr th:only-of-type {\n",
       "        vertical-align: middle;\n",
       "    }\n",
       "\n",
       "    .dataframe tbody tr th {\n",
       "        vertical-align: top;\n",
       "    }\n",
       "\n",
       "    .dataframe thead th {\n",
       "        text-align: right;\n",
       "    }\n",
       "</style>\n",
       "<table border=\"1\" class=\"dataframe\">\n",
       "  <thead>\n",
       "    <tr style=\"text-align: right;\">\n",
       "      <th></th>\n",
       "      <th>members</th>\n",
       "    </tr>\n",
       "    <tr>\n",
       "      <th>name</th>\n",
       "      <th></th>\n",
       "    </tr>\n",
       "  </thead>\n",
       "  <tbody>\n",
       "    <tr>\n",
       "      <th>Taka no Tsume 8: Yoshida-kun no X-Files</th>\n",
       "      <td>13</td>\n",
       "    </tr>\n",
       "    <tr>\n",
       "      <th>Spoon-hime no Swing Kitchen</th>\n",
       "      <td>47</td>\n",
       "    </tr>\n",
       "    <tr>\n",
       "      <th>Mogura no Motoro</th>\n",
       "      <td>62</td>\n",
       "    </tr>\n",
       "    <tr>\n",
       "      <th>Kimi no Na wa.</th>\n",
       "      <td>200630</td>\n",
       "    </tr>\n",
       "    <tr>\n",
       "      <th>Kahei no Umi</th>\n",
       "      <td>44</td>\n",
       "    </tr>\n",
       "    <tr>\n",
       "      <th>Fullmetal Alchemist: Brotherhood</th>\n",
       "      <td>793665</td>\n",
       "    </tr>\n",
       "    <tr>\n",
       "      <th>Gintama°</th>\n",
       "      <td>114262</td>\n",
       "    </tr>\n",
       "    <tr>\n",
       "      <th>Yakusoku: Africa Mizu to Midori</th>\n",
       "      <td>53</td>\n",
       "    </tr>\n",
       "    <tr>\n",
       "      <th>Steins;Gate</th>\n",
       "      <td>673572</td>\n",
       "    </tr>\n",
       "    <tr>\n",
       "      <th>Gintama&amp;#039;</th>\n",
       "      <td>151266</td>\n",
       "    </tr>\n",
       "  </tbody>\n",
       "</table>\n",
       "</div>"
      ],
      "text/plain": [
       "                                         members\n",
       "name                                            \n",
       "Taka no Tsume 8: Yoshida-kun no X-Files       13\n",
       "Spoon-hime no Swing Kitchen                   47\n",
       "Mogura no Motoro                              62\n",
       "Kimi no Na wa.                            200630\n",
       "Kahei no Umi                                  44\n",
       "Fullmetal Alchemist: Brotherhood          793665\n",
       "Gintama°                                  114262\n",
       "Yakusoku: Africa Mizu to Midori               53\n",
       "Steins;Gate                               673572\n",
       "Gintama&#039;                             151266"
      ]
     },
     "execution_count": 11,
     "metadata": {},
     "output_type": "execute_result"
    }
   ],
   "source": [
    "# Sort the DataFrame by 'Rating' in descending order\n",
    "df_rating = anime_df.sort_values(by='rating', ascending=False).head(10)\n",
    "\n",
    "# Set the 'Title' column as the index for plotting\n",
    "df_rating.set_index('name', inplace=True)\n",
    "\n",
    "# Select only the 'Members' and 'ScoredBy' columns\n",
    "df_rating = df_rating[['members']]\n",
    "\n",
    "# Create a multi bar plot\n",
    "ax = df_rating.plot(kind='bar', figsize=(10, 6))\n",
    "\n",
    "# Set labels and title\n",
    "plt.xlabel('Title')\n",
    "plt.ylabel('Values')\n",
    "plt.title('Top 10 Highest Rated Anime by Members')\n",
    "\n",
    "# Show the plot\n",
    "plt.show()\n",
    "\n",
    "df_rating"
   ]
  },
  {
   "cell_type": "markdown",
   "metadata": {},
   "source": [
    "Dari plot chart di atas selaras dengan apa yang penulis utarakan. Taka no Tsume 8: Yoshida-kun no X-Files memiliki rating paling tinggi namun hanya memiliki 13 member sedangkan Fullmetal Alchemist: Brotherhood berada di bawahnya namun memiliki member yang jauh lebih banyak yaitu sebanyak 793665 member. Untuk itu akan dibalik, plot yang awalnya diukur berdasarkan rating tertinggi, di bawah ini akan dilakukan plot berdasarkan member terbanyak."
   ]
  },
  {
   "cell_type": "code",
   "execution_count": 12,
   "metadata": {},
   "outputs": [
    {
     "data": {
      "image/png": "[encoded data removed]",
      "text/plain": [
       "<Figure size 1000x600 with 1 Axes>"
      ]
     },
     "metadata": {},
     "output_type": "display_data"
    },
    {
     "data": {
      "text/html": [
       "<div>\n",
       "<style scoped>\n",
       "    .dataframe tbody tr th:only-of-type {\n",
       "        vertical-align: middle;\n",
       "    }\n",
       "\n",
       "    .dataframe tbody tr th {\n",
       "        vertical-align: top;\n",
       "    }\n",
       "\n",
       "    .dataframe thead th {\n",
       "        text-align: right;\n",
       "    }\n",
       "</style>\n",
       "<table border=\"1\" class=\"dataframe\">\n",
       "  <thead>\n",
       "    <tr style=\"text-align: right;\">\n",
       "      <th></th>\n",
       "      <th>rating</th>\n",
       "    </tr>\n",
       "    <tr>\n",
       "      <th>name</th>\n",
       "      <th></th>\n",
       "    </tr>\n",
       "  </thead>\n",
       "  <tbody>\n",
       "    <tr>\n",
       "      <th>Death Note</th>\n",
       "      <td>8.71</td>\n",
       "    </tr>\n",
       "    <tr>\n",
       "      <th>Shingeki no Kyojin</th>\n",
       "      <td>8.54</td>\n",
       "    </tr>\n",
       "    <tr>\n",
       "      <th>Sword Art Online</th>\n",
       "      <td>7.83</td>\n",
       "    </tr>\n",
       "    <tr>\n",
       "      <th>Fullmetal Alchemist: Brotherhood</th>\n",
       "      <td>9.26</td>\n",
       "    </tr>\n",
       "    <tr>\n",
       "      <th>Angel Beats!</th>\n",
       "      <td>8.39</td>\n",
       "    </tr>\n",
       "    <tr>\n",
       "      <th>Code Geass: Hangyaku no Lelouch</th>\n",
       "      <td>8.83</td>\n",
       "    </tr>\n",
       "    <tr>\n",
       "      <th>Naruto</th>\n",
       "      <td>7.81</td>\n",
       "    </tr>\n",
       "    <tr>\n",
       "      <th>Steins;Gate</th>\n",
       "      <td>9.17</td>\n",
       "    </tr>\n",
       "    <tr>\n",
       "      <th>Mirai Nikki (TV)</th>\n",
       "      <td>8.07</td>\n",
       "    </tr>\n",
       "    <tr>\n",
       "      <th>Toradora!</th>\n",
       "      <td>8.45</td>\n",
       "    </tr>\n",
       "  </tbody>\n",
       "</table>\n",
       "</div>"
      ],
      "text/plain": [
       "                                  rating\n",
       "name                                    \n",
       "Death Note                          8.71\n",
       "Shingeki no Kyojin                  8.54\n",
       "Sword Art Online                    7.83\n",
       "Fullmetal Alchemist: Brotherhood    9.26\n",
       "Angel Beats!                        8.39\n",
       "Code Geass: Hangyaku no Lelouch     8.83\n",
       "Naruto                              7.81\n",
       "Steins;Gate                         9.17\n",
       "Mirai Nikki (TV)                    8.07\n",
       "Toradora!                           8.45"
      ]
     },
     "execution_count": 12,
     "metadata": {},
     "output_type": "execute_result"
    }
   ],
   "source": [
    "# Sort the DataFrame by 'Rating' in descending order\n",
    "df_rating = anime_df.sort_values(by='members', ascending=False).head(10)\n",
    "\n",
    "# Set the 'Title' column as the index for plotting\n",
    "df_rating.set_index('name', inplace=True)\n",
    "\n",
    "# Select only the 'Members' and 'ScoredBy' columns\n",
    "df_rating = df_rating[['rating']]\n",
    "\n",
    "# Create a multi bar plot\n",
    "ax = df_rating.plot(kind='bar', figsize=(10, 6))\n",
    "\n",
    "# Set labels and title\n",
    "plt.xlabel('Title')\n",
    "plt.ylabel('Values')\n",
    "plt.title('Top 10 Highest Member Anime by Ratings')\n",
    "\n",
    "# Show the plot\n",
    "plt.show()\n",
    "\n",
    "df_rating"
   ]
  },
  {
   "cell_type": "markdown",
   "metadata": {},
   "source": [
    "Hasilnya dapat dilihat bahwa Fullmetal Alchemist: Brotherhood memiliki rating paling tinggi yaitu 9.26 dan memiliki member kurang lebih 700000 orang berdasarkan plot Top 10 Highest Rated Anime by Members."
   ]
  },
  {
   "cell_type": "markdown",
   "metadata": {},
   "source": [
    "<h1 align='center'>Data Preprocessing</h1>\n",
    "\n",
    "***"
   ]
  },
  {
   "cell_type": "markdown",
   "metadata": {},
   "source": [
    "## Menggabungkan Anime"
   ]
  },
  {
   "cell_type": "code",
   "execution_count": 13,
   "metadata": {},
   "outputs": [
    {
     "name": "stdout",
     "output_type": "stream",
     "text": [
      "Jumlah seluruh data anime berdasarkan anime_id: 12297\n"
     ]
    }
   ],
   "source": [
    "# Menggabungkan rating_df dan anime_df berdasarkan anime_id\n",
    "anime_all = np.concatenate((\n",
    "    anime_df['anime_id'].unique(),\n",
    "    rating_df['anime_id'].unique()\n",
    "))\n",
    "anime_all = np.short(np.unique(anime_all))\n",
    "\n",
    "print(f\"Jumlah seluruh data anime berdasarkan anime_id: {len(anime_all)}\")"
   ]
  },
  {
   "cell_type": "code",
   "execution_count": 14,
   "metadata": {},
   "outputs": [
    {
     "data": {
      "text/html": [
       "<div>\n",
       "<style scoped>\n",
       "    .dataframe tbody tr th:only-of-type {\n",
       "        vertical-align: middle;\n",
       "    }\n",
       "\n",
       "    .dataframe tbody tr th {\n",
       "        vertical-align: top;\n",
       "    }\n",
       "\n",
       "    .dataframe thead th {\n",
       "        text-align: right;\n",
       "    }\n",
       "</style>\n",
       "<table border=\"1\" class=\"dataframe\">\n",
       "  <thead>\n",
       "    <tr style=\"text-align: right;\">\n",
       "      <th></th>\n",
       "      <th>anime_id</th>\n",
       "      <th>name</th>\n",
       "      <th>genre</th>\n",
       "      <th>type</th>\n",
       "      <th>episodes</th>\n",
       "      <th>rating_x</th>\n",
       "      <th>members</th>\n",
       "      <th>user_id</th>\n",
       "      <th>rating_y</th>\n",
       "    </tr>\n",
       "  </thead>\n",
       "  <tbody>\n",
       "    <tr>\n",
       "      <th>0</th>\n",
       "      <td>32281</td>\n",
       "      <td>Kimi no Na wa.</td>\n",
       "      <td>[Drama, Romance, School, Supernatural]</td>\n",
       "      <td>Movie</td>\n",
       "      <td>1</td>\n",
       "      <td>9.37</td>\n",
       "      <td>200630</td>\n",
       "      <td>99.0</td>\n",
       "      <td>5.0</td>\n",
       "    </tr>\n",
       "    <tr>\n",
       "      <th>1</th>\n",
       "      <td>32281</td>\n",
       "      <td>Kimi no Na wa.</td>\n",
       "      <td>[Drama, Romance, School, Supernatural]</td>\n",
       "      <td>Movie</td>\n",
       "      <td>1</td>\n",
       "      <td>9.37</td>\n",
       "      <td>200630</td>\n",
       "      <td>152.0</td>\n",
       "      <td>10.0</td>\n",
       "    </tr>\n",
       "    <tr>\n",
       "      <th>2</th>\n",
       "      <td>32281</td>\n",
       "      <td>Kimi no Na wa.</td>\n",
       "      <td>[Drama, Romance, School, Supernatural]</td>\n",
       "      <td>Movie</td>\n",
       "      <td>1</td>\n",
       "      <td>9.37</td>\n",
       "      <td>200630</td>\n",
       "      <td>244.0</td>\n",
       "      <td>10.0</td>\n",
       "    </tr>\n",
       "    <tr>\n",
       "      <th>3</th>\n",
       "      <td>32281</td>\n",
       "      <td>Kimi no Na wa.</td>\n",
       "      <td>[Drama, Romance, School, Supernatural]</td>\n",
       "      <td>Movie</td>\n",
       "      <td>1</td>\n",
       "      <td>9.37</td>\n",
       "      <td>200630</td>\n",
       "      <td>271.0</td>\n",
       "      <td>10.0</td>\n",
       "    </tr>\n",
       "    <tr>\n",
       "      <th>4</th>\n",
       "      <td>32281</td>\n",
       "      <td>Kimi no Na wa.</td>\n",
       "      <td>[Drama, Romance, School, Supernatural]</td>\n",
       "      <td>Movie</td>\n",
       "      <td>1</td>\n",
       "      <td>9.37</td>\n",
       "      <td>200630</td>\n",
       "      <td>278.0</td>\n",
       "      <td>-1.0</td>\n",
       "    </tr>\n",
       "  </tbody>\n",
       "</table>\n",
       "</div>"
      ],
      "text/plain": [
       "   anime_id            name                                   genre   type   \n",
       "0     32281  Kimi no Na wa.  [Drama, Romance, School, Supernatural]  Movie  \\\n",
       "1     32281  Kimi no Na wa.  [Drama, Romance, School, Supernatural]  Movie   \n",
       "2     32281  Kimi no Na wa.  [Drama, Romance, School, Supernatural]  Movie   \n",
       "3     32281  Kimi no Na wa.  [Drama, Romance, School, Supernatural]  Movie   \n",
       "4     32281  Kimi no Na wa.  [Drama, Romance, School, Supernatural]  Movie   \n",
       "\n",
       "  episodes  rating_x  members  user_id  rating_y  \n",
       "0        1      9.37   200630     99.0       5.0  \n",
       "1        1      9.37   200630    152.0      10.0  \n",
       "2        1      9.37   200630    244.0      10.0  \n",
       "3        1      9.37   200630    271.0      10.0  \n",
       "4        1      9.37   200630    278.0      -1.0  "
      ]
     },
     "execution_count": 14,
     "metadata": {},
     "output_type": "execute_result"
    }
   ],
   "source": [
    "# Menggabungkan kedua dataframe berdasarkan anime_id\n",
    "df = pd.merge(anime_df, rating_df, on='anime_id', how='left')\n",
    "df.head()"
   ]
  },
  {
   "cell_type": "markdown",
   "metadata": {},
   "source": [
    "## Data Cleaning"
   ]
  },
  {
   "cell_type": "code",
   "execution_count": 15,
   "metadata": {},
   "outputs": [
    {
     "data": {
      "text/plain": [
       "anime_id       0\n",
       "name           0\n",
       "genre          0\n",
       "type          28\n",
       "episodes       0\n",
       "rating_x     233\n",
       "members        0\n",
       "user_id     1097\n",
       "rating_y    1097\n",
       "dtype: int64"
      ]
     },
     "execution_count": 15,
     "metadata": {},
     "output_type": "execute_result"
    }
   ],
   "source": [
    "# Cek missing value\n",
    "df.isnull().sum()"
   ]
  },
  {
   "cell_type": "code",
   "execution_count": 16,
   "metadata": {},
   "outputs": [],
   "source": [
    "# Drop missing value\n",
    "df = df.dropna()"
   ]
  },
  {
   "cell_type": "code",
   "execution_count": 17,
   "metadata": {},
   "outputs": [
    {
     "data": {
      "text/plain": [
       "anime_id    0\n",
       "name        0\n",
       "genre       0\n",
       "type        0\n",
       "episodes    0\n",
       "rating_x    0\n",
       "members     0\n",
       "user_id     0\n",
       "rating_y    0\n",
       "dtype: int64"
      ]
     },
     "execution_count": 17,
     "metadata": {},
     "output_type": "execute_result"
    }
   ],
   "source": [
    "# Cek kembali missing value yang telah didrop\n",
    "df.isnull().sum()"
   ]
  },
  {
   "cell_type": "code",
   "execution_count": 18,
   "metadata": {},
   "outputs": [
    {
     "data": {
      "text/plain": [
       "1"
      ]
     },
     "execution_count": 18,
     "metadata": {},
     "output_type": "execute_result"
    }
   ],
   "source": [
    "# Mengecek data yang duplikat\n",
    "df['genre'] = df['genre'].apply(tuple)\n",
    "df.duplicated().sum()"
   ]
  },
  {
   "cell_type": "code",
   "execution_count": 19,
   "metadata": {},
   "outputs": [],
   "source": [
    "# drop data duplicates\n",
    "df = df.drop_duplicates()"
   ]
  },
  {
   "cell_type": "code",
   "execution_count": 20,
   "metadata": {},
   "outputs": [
    {
     "data": {
      "text/plain": [
       "0"
      ]
     },
     "execution_count": 20,
     "metadata": {},
     "output_type": "execute_result"
    }
   ],
   "source": [
    "# Cek ulang duplikasi data\n",
    "df.duplicated().sum()"
   ]
  },
  {
   "cell_type": "code",
   "execution_count": 21,
   "metadata": {},
   "outputs": [
    {
     "data": {
      "text/html": [
       "<div>\n",
       "<style scoped>\n",
       "    .dataframe tbody tr th:only-of-type {\n",
       "        vertical-align: middle;\n",
       "    }\n",
       "\n",
       "    .dataframe tbody tr th {\n",
       "        vertical-align: top;\n",
       "    }\n",
       "\n",
       "    .dataframe thead th {\n",
       "        text-align: right;\n",
       "    }\n",
       "</style>\n",
       "<table border=\"1\" class=\"dataframe\">\n",
       "  <thead>\n",
       "    <tr style=\"text-align: right;\">\n",
       "      <th></th>\n",
       "      <th>anime_id</th>\n",
       "      <th>name</th>\n",
       "      <th>genre</th>\n",
       "      <th>type</th>\n",
       "      <th>episodes</th>\n",
       "      <th>rating_x</th>\n",
       "      <th>members</th>\n",
       "      <th>user_id</th>\n",
       "      <th>rating_y</th>\n",
       "    </tr>\n",
       "  </thead>\n",
       "  <tbody>\n",
       "    <tr>\n",
       "      <th>208698</th>\n",
       "      <td>1</td>\n",
       "      <td>Cowboy Bebop</td>\n",
       "      <td>(Action, Adventure, Comedy, Drama, Sci-Fi, Space)</td>\n",
       "      <td>TV</td>\n",
       "      <td>26</td>\n",
       "      <td>8.82</td>\n",
       "      <td>486824</td>\n",
       "      <td>51598.0</td>\n",
       "      <td>9.0</td>\n",
       "    </tr>\n",
       "    <tr>\n",
       "      <th>213581</th>\n",
       "      <td>1</td>\n",
       "      <td>Cowboy Bebop</td>\n",
       "      <td>(Action, Adventure, Comedy, Drama, Sci-Fi, Space)</td>\n",
       "      <td>TV</td>\n",
       "      <td>26</td>\n",
       "      <td>8.82</td>\n",
       "      <td>486824</td>\n",
       "      <td>73014.0</td>\n",
       "      <td>10.0</td>\n",
       "    </tr>\n",
       "    <tr>\n",
       "      <th>213582</th>\n",
       "      <td>1</td>\n",
       "      <td>Cowboy Bebop</td>\n",
       "      <td>(Action, Adventure, Comedy, Drama, Sci-Fi, Space)</td>\n",
       "      <td>TV</td>\n",
       "      <td>26</td>\n",
       "      <td>8.82</td>\n",
       "      <td>486824</td>\n",
       "      <td>73015.0</td>\n",
       "      <td>10.0</td>\n",
       "    </tr>\n",
       "    <tr>\n",
       "      <th>213583</th>\n",
       "      <td>1</td>\n",
       "      <td>Cowboy Bebop</td>\n",
       "      <td>(Action, Adventure, Comedy, Drama, Sci-Fi, Space)</td>\n",
       "      <td>TV</td>\n",
       "      <td>26</td>\n",
       "      <td>8.82</td>\n",
       "      <td>486824</td>\n",
       "      <td>73023.0</td>\n",
       "      <td>10.0</td>\n",
       "    </tr>\n",
       "    <tr>\n",
       "      <th>213584</th>\n",
       "      <td>1</td>\n",
       "      <td>Cowboy Bebop</td>\n",
       "      <td>(Action, Adventure, Comedy, Drama, Sci-Fi, Space)</td>\n",
       "      <td>TV</td>\n",
       "      <td>26</td>\n",
       "      <td>8.82</td>\n",
       "      <td>486824</td>\n",
       "      <td>73028.0</td>\n",
       "      <td>9.0</td>\n",
       "    </tr>\n",
       "  </tbody>\n",
       "</table>\n",
       "</div>"
      ],
      "text/plain": [
       "        anime_id          name   \n",
       "208698         1  Cowboy Bebop  \\\n",
       "213581         1  Cowboy Bebop   \n",
       "213582         1  Cowboy Bebop   \n",
       "213583         1  Cowboy Bebop   \n",
       "213584         1  Cowboy Bebop   \n",
       "\n",
       "                                                    genre type episodes   \n",
       "208698  (Action, Adventure, Comedy, Drama, Sci-Fi, Space)   TV       26  \\\n",
       "213581  (Action, Adventure, Comedy, Drama, Sci-Fi, Space)   TV       26   \n",
       "213582  (Action, Adventure, Comedy, Drama, Sci-Fi, Space)   TV       26   \n",
       "213583  (Action, Adventure, Comedy, Drama, Sci-Fi, Space)   TV       26   \n",
       "213584  (Action, Adventure, Comedy, Drama, Sci-Fi, Space)   TV       26   \n",
       "\n",
       "        rating_x  members  user_id  rating_y  \n",
       "208698      8.82   486824  51598.0       9.0  \n",
       "213581      8.82   486824  73014.0      10.0  \n",
       "213582      8.82   486824  73015.0      10.0  \n",
       "213583      8.82   486824  73023.0      10.0  \n",
       "213584      8.82   486824  73028.0       9.0  "
      ]
     },
     "execution_count": 21,
     "metadata": {},
     "output_type": "execute_result"
    }
   ],
   "source": [
    "# Mengurutkan data berdasarkan anime_id\n",
    "df = df.sort_values('anime_id', ascending=True)\n",
    "df.head()"
   ]
  },
  {
   "cell_type": "code",
   "execution_count": 22,
   "metadata": {},
   "outputs": [
    {
     "data": {
      "text/html": [
       "<div>\n",
       "<style scoped>\n",
       "    .dataframe tbody tr th:only-of-type {\n",
       "        vertical-align: middle;\n",
       "    }\n",
       "\n",
       "    .dataframe tbody tr th {\n",
       "        vertical-align: top;\n",
       "    }\n",
       "\n",
       "    .dataframe thead th {\n",
       "        text-align: right;\n",
       "    }\n",
       "</style>\n",
       "<table border=\"1\" class=\"dataframe\">\n",
       "  <thead>\n",
       "    <tr style=\"text-align: right;\">\n",
       "      <th></th>\n",
       "      <th>anime_id</th>\n",
       "      <th>name</th>\n",
       "      <th>genre</th>\n",
       "      <th>type</th>\n",
       "      <th>episodes</th>\n",
       "      <th>rating_x</th>\n",
       "      <th>members</th>\n",
       "      <th>user_id</th>\n",
       "      <th>rating_y</th>\n",
       "    </tr>\n",
       "  </thead>\n",
       "  <tbody>\n",
       "    <tr>\n",
       "      <th>208698</th>\n",
       "      <td>1</td>\n",
       "      <td>Cowboy Bebop</td>\n",
       "      <td>(Action, Adventure, Comedy, Drama, Sci-Fi, Space)</td>\n",
       "      <td>TV</td>\n",
       "      <td>26</td>\n",
       "      <td>8.82</td>\n",
       "      <td>486824</td>\n",
       "      <td>51598.0</td>\n",
       "      <td>9.0</td>\n",
       "    </tr>\n",
       "    <tr>\n",
       "      <th>981639</th>\n",
       "      <td>5</td>\n",
       "      <td>Cowboy Bebop: Tengoku no Tobira</td>\n",
       "      <td>(Action, Drama, Mystery, Sci-Fi, Space)</td>\n",
       "      <td>Movie</td>\n",
       "      <td>1</td>\n",
       "      <td>8.40</td>\n",
       "      <td>137636</td>\n",
       "      <td>66624.0</td>\n",
       "      <td>9.0</td>\n",
       "    </tr>\n",
       "    <tr>\n",
       "      <th>1323695</th>\n",
       "      <td>6</td>\n",
       "      <td>Trigun</td>\n",
       "      <td>(Action, Comedy, Sci-Fi)</td>\n",
       "      <td>TV</td>\n",
       "      <td>26</td>\n",
       "      <td>8.32</td>\n",
       "      <td>283069</td>\n",
       "      <td>67806.0</td>\n",
       "      <td>8.0</td>\n",
       "    </tr>\n",
       "    <tr>\n",
       "      <th>5475714</th>\n",
       "      <td>7</td>\n",
       "      <td>Witch Hunter Robin</td>\n",
       "      <td>(Action, Drama, Magic, Mystery, Police, Supern...</td>\n",
       "      <td>TV</td>\n",
       "      <td>26</td>\n",
       "      <td>7.36</td>\n",
       "      <td>64905</td>\n",
       "      <td>59981.0</td>\n",
       "      <td>-1.0</td>\n",
       "    </tr>\n",
       "    <tr>\n",
       "      <th>6448940</th>\n",
       "      <td>8</td>\n",
       "      <td>Beet the Vandel Buster</td>\n",
       "      <td>(Adventure, Fantasy, Shounen, Supernatural)</td>\n",
       "      <td>TV</td>\n",
       "      <td>52</td>\n",
       "      <td>7.06</td>\n",
       "      <td>9848</td>\n",
       "      <td>50437.0</td>\n",
       "      <td>-1.0</td>\n",
       "    </tr>\n",
       "  </tbody>\n",
       "</table>\n",
       "</div>"
      ],
      "text/plain": [
       "         anime_id                             name   \n",
       "208698          1                     Cowboy Bebop  \\\n",
       "981639          5  Cowboy Bebop: Tengoku no Tobira   \n",
       "1323695         6                           Trigun   \n",
       "5475714         7               Witch Hunter Robin   \n",
       "6448940         8           Beet the Vandel Buster   \n",
       "\n",
       "                                                     genre   type episodes   \n",
       "208698   (Action, Adventure, Comedy, Drama, Sci-Fi, Space)     TV       26  \\\n",
       "981639             (Action, Drama, Mystery, Sci-Fi, Space)  Movie        1   \n",
       "1323695                           (Action, Comedy, Sci-Fi)     TV       26   \n",
       "5475714  (Action, Drama, Magic, Mystery, Police, Supern...     TV       26   \n",
       "6448940        (Adventure, Fantasy, Shounen, Supernatural)     TV       52   \n",
       "\n",
       "         rating_x  members  user_id  rating_y  \n",
       "208698       8.82   486824  51598.0       9.0  \n",
       "981639       8.40   137636  66624.0       9.0  \n",
       "1323695      8.32   283069  67806.0       8.0  \n",
       "5475714      7.36    64905  59981.0      -1.0  \n",
       "6448940      7.06     9848  50437.0      -1.0  "
      ]
     },
     "execution_count": 22,
     "metadata": {},
     "output_type": "execute_result"
    }
   ],
   "source": [
    "# Drop duplikasi dari anime_id yang disebabkan penggabungan rating_df dan anime_df\n",
    "df = df.drop_duplicates('anime_id')\n",
    "df.head()"
   ]
  },
  {
   "cell_type": "code",
   "execution_count": 23,
   "metadata": {},
   "outputs": [
    {
     "name": "stdout",
     "output_type": "stream",
     "text": [
      "11194\n",
      "11194\n",
      "11194\n"
     ]
    }
   ],
   "source": [
    "# Melihat jumlah data pada kolom anime_id, name, dan genre\n",
    "anime_id = df['anime_id'].tolist()\n",
    "\n",
    "name = df['name'].tolist()\n",
    "\n",
    "genre = df['genre'].tolist()\n",
    "\n",
    "print(len(anime_id))\n",
    "print(len(name))\n",
    "print(len(genre))"
   ]
  },
  {
   "cell_type": "code",
   "execution_count": 24,
   "metadata": {},
   "outputs": [
    {
     "data": {
      "text/html": [
       "<div>\n",
       "<style scoped>\n",
       "    .dataframe tbody tr th:only-of-type {\n",
       "        vertical-align: middle;\n",
       "    }\n",
       "\n",
       "    .dataframe tbody tr th {\n",
       "        vertical-align: top;\n",
       "    }\n",
       "\n",
       "    .dataframe thead th {\n",
       "        text-align: right;\n",
       "    }\n",
       "</style>\n",
       "<table border=\"1\" class=\"dataframe\">\n",
       "  <thead>\n",
       "    <tr style=\"text-align: right;\">\n",
       "      <th></th>\n",
       "      <th>anime_id</th>\n",
       "      <th>title</th>\n",
       "      <th>genre</th>\n",
       "    </tr>\n",
       "  </thead>\n",
       "  <tbody>\n",
       "    <tr>\n",
       "      <th>0</th>\n",
       "      <td>1</td>\n",
       "      <td>Cowboy Bebop</td>\n",
       "      <td>(Action, Adventure, Comedy, Drama, Sci-Fi, Space)</td>\n",
       "    </tr>\n",
       "    <tr>\n",
       "      <th>1</th>\n",
       "      <td>5</td>\n",
       "      <td>Cowboy Bebop: Tengoku no Tobira</td>\n",
       "      <td>(Action, Drama, Mystery, Sci-Fi, Space)</td>\n",
       "    </tr>\n",
       "    <tr>\n",
       "      <th>2</th>\n",
       "      <td>6</td>\n",
       "      <td>Trigun</td>\n",
       "      <td>(Action, Comedy, Sci-Fi)</td>\n",
       "    </tr>\n",
       "    <tr>\n",
       "      <th>3</th>\n",
       "      <td>7</td>\n",
       "      <td>Witch Hunter Robin</td>\n",
       "      <td>(Action, Drama, Magic, Mystery, Police, Supern...</td>\n",
       "    </tr>\n",
       "    <tr>\n",
       "      <th>4</th>\n",
       "      <td>8</td>\n",
       "      <td>Beet the Vandel Buster</td>\n",
       "      <td>(Adventure, Fantasy, Shounen, Supernatural)</td>\n",
       "    </tr>\n",
       "  </tbody>\n",
       "</table>\n",
       "</div>"
      ],
      "text/plain": [
       "   anime_id                            title   \n",
       "0         1                     Cowboy Bebop  \\\n",
       "1         5  Cowboy Bebop: Tengoku no Tobira   \n",
       "2         6                           Trigun   \n",
       "3         7               Witch Hunter Robin   \n",
       "4         8           Beet the Vandel Buster   \n",
       "\n",
       "                                               genre  \n",
       "0  (Action, Adventure, Comedy, Drama, Sci-Fi, Space)  \n",
       "1            (Action, Drama, Mystery, Sci-Fi, Space)  \n",
       "2                           (Action, Comedy, Sci-Fi)  \n",
       "3  (Action, Drama, Magic, Mystery, Police, Supern...  \n",
       "4        (Adventure, Fantasy, Shounen, Supernatural)  "
      ]
     },
     "execution_count": 24,
     "metadata": {},
     "output_type": "execute_result"
    }
   ],
   "source": [
    "# Membuat dataset baru berdasarkan anime_id, title, dan genre\n",
    "anime = pd.DataFrame({\n",
    "    'anime_id': anime_id,\n",
    "    \"title\": name,\n",
    "    'genre': genre\n",
    "})\n",
    "\n",
    "anime.head()"
   ]
  },
  {
   "cell_type": "markdown",
   "metadata": {},
   "source": [
    "<h1 align='center'>Model Development Content Based Filtering</h1>\n",
    "\n",
    "***"
   ]
  },
  {
   "cell_type": "markdown",
   "metadata": {},
   "source": [
    "Content-based filtering adalah sebuah metode dalam sistem rekomendasi yang digunakan untuk memberikan rekomendasi kepada pengguna berdasarkan karakteristik atau konten dari item atau produk yang telah mereka sukai atau konsumsi sebelumnya. Metode ini memeriksa kesamaan antara item yang telah disukai oleh pengguna dan item-item lainnya berdasarkan fitur atau atribut tertentu.\n",
    "\n",
    "Berikut adalah beberapa karakteristik utama dari content-based filtering:\n",
    "1. Ekstraksi Fitur: Sistem content-based filtering pertama-tama mengidentifikasi fitur atau atribut yang relevan dari item atau produk yang ingin direkomendasikan. Misalnya, dalam sistem rekomendasi film, fitur-fitur bisa mencakup genre, sutradara, aktor, tahun rilis, dan lain sebagainya.\n",
    "2. Profil Pengguna: Sistem ini juga membangun profil pengguna berdasarkan preferensi mereka terhadap item-item yang telah mereka beri peringkat atau konsumsi sebelumnya. Profil ini mencerminkan preferensi pengguna terhadap atribut-atribut tertentu.\n",
    "3. Perbandingan Berbasis Kesamaan: Sistem kemudian mencari item-item lain yang memiliki kesamaan dengan preferensi pengguna berdasarkan atribut-atribut yang ada dalam profil pengguna. Ini bisa dilakukan dengan menggunakan berbagai metode perbandingan, seperti perhitungan kesamaan kosinus atau algoritma lainnya.\n",
    "4. Rekomendasi: Setelah sistem mengidentifikasi item yang mirip dengan preferensi pengguna, ia akan merekomendasikan item-item tersebut kepada pengguna.\n",
    "\n",
    "Keuntungan dari content-based filtering adalah bahwa ia dapat memberikan rekomendasi yang lebih personal karena mempertimbangkan preferensi individu pengguna. Namun, batas utamanya adalah kurangnya variasi dalam rekomendasi, karena hanya akan merekomendasikan item yang mirip dengan yang sudah disukai pengguna."
   ]
  },
  {
   "cell_type": "markdown",
   "metadata": {},
   "source": [
    "## TF_IDF Vectorizer"
   ]
  },
  {
   "cell_type": "markdown",
   "metadata": {},
   "source": [
    "Tfidf Vectorizer adalah alat atau komponen yang digunakan dalam pemrosesan teks untuk mengubah teks menjadi vektor numerik berdasarkan nilai tf-idf. Ini adalah salah satu tahap yang umumnya diterapkan dalam pemrosesan teks sebelum menerapkan berbagai algoritma pembelajaran mesin atau analisis statistik.\n",
    "\n",
    "Berikut adalah cara kerja Tfidf Vectorizer:\n",
    "1. Term Frequency (TF): Ini mengukur seberapa sering kata atau istilah tertentu muncul dalam suatu dokumen. Ini dapat dihitung dengan cara menghitung jumlah kemunculan kata tersebut dalam dokumen dan kemudian dibagi dengan jumlah total kata dalam dokumen.\n",
    "2. Inverse Document Frequency (IDF): Ini mengukur seberapa pentingnya suatu kata atau istilah dalam seluruh koleksi dokumen. Kata yang muncul lebih sering dalam banyak dokumen akan memiliki nilai IDF yang lebih rendah, sedangkan kata yang jarang muncul akan memiliki nilai IDF yang lebih tinggi. IDF dihitung dengan rumus logaritmik yang melibatkan jumlah total dokumen dalam koleksi dan jumlah dokumen yang mengandung kata tersebut.\n",
    "3. Tf-idf Score: Ini adalah hasil perkalian antara nilai TF dan IDF untuk suatu kata dalam suatu dokumen. Dengan demikian, kata-kata yang sering muncul dalam suatu dokumen tetapi jarang muncul dalam dokumen lain akan memiliki skor Tf-idf yang tinggi.\n",
    "4. Vektorisasi: Setelah menghitung Tf-idf score untuk setiap kata dalam setiap dokumen, Tfidf Vectorizer menghasilkan vektor numerik untuk setiap dokumen. Setiap dimensi vektor akan mewakili kata atau istilah tertentu, dan nilainya adalah skor Tf-idf dari kata tersebut dalam dokumen tersebut."
   ]
  },
  {
   "cell_type": "code",
   "execution_count": 25,
   "metadata": {},
   "outputs": [
    {
     "data": {
      "text/plain": [
       "array(['action', 'adventure', 'ai', 'arts', 'cars', 'comedy', 'dementia',\n",
       "       'demons', 'drama', 'ecchi', 'fantasy', 'fi', 'game', 'harem',\n",
       "       'hentai', 'historical', 'horror', 'josei', 'kids', 'life', 'magic',\n",
       "       'martial', 'mecha', 'military', 'music', 'mystery', 'of', 'parody',\n",
       "       'police', 'power', 'psychological', 'romance', 'samurai', 'school',\n",
       "       'sci', 'seinen', 'shoujo', 'shounen', 'slice', 'space', 'sports',\n",
       "       'super', 'supernatural', 'thriller', 'vampire', 'yaoi', 'yuri'],\n",
       "      dtype=object)"
      ]
     },
     "execution_count": 25,
     "metadata": {},
     "output_type": "execute_result"
    }
   ],
   "source": [
    "# Inisialisasi TfidfVectorizer\n",
    "tfidf = TfidfVectorizer()\n",
    "\n",
    "# Convert lists of genres into text strings\n",
    "anime['genre'] = anime['genre'].apply(lambda x: ' '.join(x))\n",
    "\n",
    "# Melakukan perhitungan idf pada data cuisine\n",
    "tfidf.fit(anime['genre'])\n",
    "\n",
    "# Mapping array dari fitur index integer ke fitur nama\n",
    "tfidf.get_feature_names_out() "
   ]
  },
  {
   "cell_type": "code",
   "execution_count": 26,
   "metadata": {},
   "outputs": [
    {
     "data": {
      "text/plain": [
       "(11194, 47)"
      ]
     },
     "execution_count": 26,
     "metadata": {},
     "output_type": "execute_result"
    }
   ],
   "source": [
    "# Melakukan fit lalu ditransformasikan ke bentuk matrix\n",
    "tfidf_matrix = tfidf.fit_transform(anime['genre']) \n",
    " \n",
    "# Melihat ukuran matrix tfidf\n",
    "tfidf_matrix.shape "
   ]
  },
  {
   "cell_type": "code",
   "execution_count": 27,
   "metadata": {},
   "outputs": [
    {
     "data": {
      "text/plain": [
       "matrix([[0.31597153, 0.34212335, 0.        , ..., 0.        , 0.        ,\n",
       "         0.        ],\n",
       "        [0.2997033 , 0.        , 0.        , ..., 0.        , 0.        ,\n",
       "         0.        ],\n",
       "        [0.488683  , 0.        , 0.        , ..., 0.        , 0.        ,\n",
       "         0.        ],\n",
       "        ...,\n",
       "        [0.38170399, 0.        , 0.        , ..., 0.        , 0.        ,\n",
       "         0.        ],\n",
       "        [0.        , 0.        , 0.        , ..., 0.        , 0.        ,\n",
       "         0.        ],\n",
       "        [0.        , 0.        , 0.        , ..., 0.        , 0.        ,\n",
       "         0.        ]])"
      ]
     },
     "execution_count": 27,
     "metadata": {},
     "output_type": "execute_result"
    }
   ],
   "source": [
    "# Mengubah vektor tf-idf dalam bentuk matriks dengan fungsi todense()\n",
    "tfidf_matrix.todense()"
   ]
  },
  {
   "cell_type": "code",
   "execution_count": 28,
   "metadata": {},
   "outputs": [
    {
     "data": {
      "text/html": [
       "<div>\n",
       "<style scoped>\n",
       "    .dataframe tbody tr th:only-of-type {\n",
       "        vertical-align: middle;\n",
       "    }\n",
       "\n",
       "    .dataframe tbody tr th {\n",
       "        vertical-align: top;\n",
       "    }\n",
       "\n",
       "    .dataframe thead th {\n",
       "        text-align: right;\n",
       "    }\n",
       "</style>\n",
       "<table border=\"1\" class=\"dataframe\">\n",
       "  <thead>\n",
       "    <tr style=\"text-align: right;\">\n",
       "      <th></th>\n",
       "      <th>drama</th>\n",
       "      <th>samurai</th>\n",
       "      <th>kids</th>\n",
       "      <th>military</th>\n",
       "      <th>adventure</th>\n",
       "      <th>supernatural</th>\n",
       "      <th>police</th>\n",
       "      <th>fantasy</th>\n",
       "      <th>thriller</th>\n",
       "      <th>mecha</th>\n",
       "      <th>...</th>\n",
       "      <th>hentai</th>\n",
       "      <th>horror</th>\n",
       "      <th>of</th>\n",
       "      <th>space</th>\n",
       "      <th>yuri</th>\n",
       "      <th>historical</th>\n",
       "      <th>power</th>\n",
       "      <th>arts</th>\n",
       "      <th>josei</th>\n",
       "      <th>sports</th>\n",
       "    </tr>\n",
       "    <tr>\n",
       "      <th>title</th>\n",
       "      <th></th>\n",
       "      <th></th>\n",
       "      <th></th>\n",
       "      <th></th>\n",
       "      <th></th>\n",
       "      <th></th>\n",
       "      <th></th>\n",
       "      <th></th>\n",
       "      <th></th>\n",
       "      <th></th>\n",
       "      <th></th>\n",
       "      <th></th>\n",
       "      <th></th>\n",
       "      <th></th>\n",
       "      <th></th>\n",
       "      <th></th>\n",
       "      <th></th>\n",
       "      <th></th>\n",
       "      <th></th>\n",
       "      <th></th>\n",
       "      <th></th>\n",
       "    </tr>\n",
       "  </thead>\n",
       "  <tbody>\n",
       "    <tr>\n",
       "      <th>Penguin no Mondai Movie</th>\n",
       "      <td>0.000000</td>\n",
       "      <td>0.0</td>\n",
       "      <td>0.848476</td>\n",
       "      <td>0.000000</td>\n",
       "      <td>0.000000</td>\n",
       "      <td>0.000000</td>\n",
       "      <td>0.00000</td>\n",
       "      <td>0.0</td>\n",
       "      <td>0.0</td>\n",
       "      <td>0.000000</td>\n",
       "      <td>...</td>\n",
       "      <td>0.0</td>\n",
       "      <td>0.0</td>\n",
       "      <td>0.000000</td>\n",
       "      <td>0.000000</td>\n",
       "      <td>0.0</td>\n",
       "      <td>0.0</td>\n",
       "      <td>0.0</td>\n",
       "      <td>0.0</td>\n",
       "      <td>0.0</td>\n",
       "      <td>0.0</td>\n",
       "    </tr>\n",
       "    <tr>\n",
       "      <th>Dance in the Vampire Bund Recap</th>\n",
       "      <td>0.000000</td>\n",
       "      <td>0.0</td>\n",
       "      <td>0.000000</td>\n",
       "      <td>0.000000</td>\n",
       "      <td>0.000000</td>\n",
       "      <td>0.484543</td>\n",
       "      <td>0.00000</td>\n",
       "      <td>0.0</td>\n",
       "      <td>0.0</td>\n",
       "      <td>0.000000</td>\n",
       "      <td>...</td>\n",
       "      <td>0.0</td>\n",
       "      <td>0.0</td>\n",
       "      <td>0.000000</td>\n",
       "      <td>0.000000</td>\n",
       "      <td>0.0</td>\n",
       "      <td>0.0</td>\n",
       "      <td>0.0</td>\n",
       "      <td>0.0</td>\n",
       "      <td>0.0</td>\n",
       "      <td>0.0</td>\n",
       "    </tr>\n",
       "    <tr>\n",
       "      <th>Casshern Sins</th>\n",
       "      <td>0.361663</td>\n",
       "      <td>0.0</td>\n",
       "      <td>0.000000</td>\n",
       "      <td>0.000000</td>\n",
       "      <td>0.339991</td>\n",
       "      <td>0.000000</td>\n",
       "      <td>0.00000</td>\n",
       "      <td>0.0</td>\n",
       "      <td>0.0</td>\n",
       "      <td>0.000000</td>\n",
       "      <td>...</td>\n",
       "      <td>0.0</td>\n",
       "      <td>0.0</td>\n",
       "      <td>0.000000</td>\n",
       "      <td>0.000000</td>\n",
       "      <td>0.0</td>\n",
       "      <td>0.0</td>\n",
       "      <td>0.0</td>\n",
       "      <td>0.0</td>\n",
       "      <td>0.0</td>\n",
       "      <td>0.0</td>\n",
       "    </tr>\n",
       "    <tr>\n",
       "      <th>Soliton no Akuma</th>\n",
       "      <td>0.435169</td>\n",
       "      <td>0.0</td>\n",
       "      <td>0.000000</td>\n",
       "      <td>0.670109</td>\n",
       "      <td>0.000000</td>\n",
       "      <td>0.000000</td>\n",
       "      <td>0.00000</td>\n",
       "      <td>0.0</td>\n",
       "      <td>0.0</td>\n",
       "      <td>0.000000</td>\n",
       "      <td>...</td>\n",
       "      <td>0.0</td>\n",
       "      <td>0.0</td>\n",
       "      <td>0.000000</td>\n",
       "      <td>0.000000</td>\n",
       "      <td>0.0</td>\n",
       "      <td>0.0</td>\n",
       "      <td>0.0</td>\n",
       "      <td>0.0</td>\n",
       "      <td>0.0</td>\n",
       "      <td>0.0</td>\n",
       "    </tr>\n",
       "    <tr>\n",
       "      <th>Chouon Senshi Borgman: Lovers Rain</th>\n",
       "      <td>0.000000</td>\n",
       "      <td>0.0</td>\n",
       "      <td>0.000000</td>\n",
       "      <td>0.000000</td>\n",
       "      <td>0.000000</td>\n",
       "      <td>0.000000</td>\n",
       "      <td>0.00000</td>\n",
       "      <td>0.0</td>\n",
       "      <td>0.0</td>\n",
       "      <td>0.000000</td>\n",
       "      <td>...</td>\n",
       "      <td>0.0</td>\n",
       "      <td>0.0</td>\n",
       "      <td>0.000000</td>\n",
       "      <td>0.000000</td>\n",
       "      <td>0.0</td>\n",
       "      <td>0.0</td>\n",
       "      <td>0.0</td>\n",
       "      <td>0.0</td>\n",
       "      <td>0.0</td>\n",
       "      <td>0.0</td>\n",
       "    </tr>\n",
       "    <tr>\n",
       "      <th>The Siamese: First Mission</th>\n",
       "      <td>0.000000</td>\n",
       "      <td>0.0</td>\n",
       "      <td>0.000000</td>\n",
       "      <td>0.000000</td>\n",
       "      <td>0.000000</td>\n",
       "      <td>0.000000</td>\n",
       "      <td>0.00000</td>\n",
       "      <td>0.0</td>\n",
       "      <td>0.0</td>\n",
       "      <td>0.000000</td>\n",
       "      <td>...</td>\n",
       "      <td>0.0</td>\n",
       "      <td>0.0</td>\n",
       "      <td>0.000000</td>\n",
       "      <td>0.000000</td>\n",
       "      <td>0.0</td>\n",
       "      <td>0.0</td>\n",
       "      <td>0.0</td>\n",
       "      <td>0.0</td>\n",
       "      <td>0.0</td>\n",
       "      <td>0.0</td>\n",
       "    </tr>\n",
       "    <tr>\n",
       "      <th>Working!!</th>\n",
       "      <td>0.000000</td>\n",
       "      <td>0.0</td>\n",
       "      <td>0.000000</td>\n",
       "      <td>0.000000</td>\n",
       "      <td>0.000000</td>\n",
       "      <td>0.000000</td>\n",
       "      <td>0.00000</td>\n",
       "      <td>0.0</td>\n",
       "      <td>0.0</td>\n",
       "      <td>0.000000</td>\n",
       "      <td>...</td>\n",
       "      <td>0.0</td>\n",
       "      <td>0.0</td>\n",
       "      <td>0.546133</td>\n",
       "      <td>0.000000</td>\n",
       "      <td>0.0</td>\n",
       "      <td>0.0</td>\n",
       "      <td>0.0</td>\n",
       "      <td>0.0</td>\n",
       "      <td>0.0</td>\n",
       "      <td>0.0</td>\n",
       "    </tr>\n",
       "    <tr>\n",
       "      <th>Genei Toshi</th>\n",
       "      <td>0.000000</td>\n",
       "      <td>0.0</td>\n",
       "      <td>0.000000</td>\n",
       "      <td>0.000000</td>\n",
       "      <td>0.000000</td>\n",
       "      <td>0.000000</td>\n",
       "      <td>0.00000</td>\n",
       "      <td>0.0</td>\n",
       "      <td>0.0</td>\n",
       "      <td>0.000000</td>\n",
       "      <td>...</td>\n",
       "      <td>0.0</td>\n",
       "      <td>0.0</td>\n",
       "      <td>0.000000</td>\n",
       "      <td>0.000000</td>\n",
       "      <td>0.0</td>\n",
       "      <td>0.0</td>\n",
       "      <td>0.0</td>\n",
       "      <td>0.0</td>\n",
       "      <td>0.0</td>\n",
       "      <td>0.0</td>\n",
       "    </tr>\n",
       "    <tr>\n",
       "      <th>Macross Plus</th>\n",
       "      <td>0.307619</td>\n",
       "      <td>0.0</td>\n",
       "      <td>0.000000</td>\n",
       "      <td>0.473698</td>\n",
       "      <td>0.000000</td>\n",
       "      <td>0.000000</td>\n",
       "      <td>0.00000</td>\n",
       "      <td>0.0</td>\n",
       "      <td>0.0</td>\n",
       "      <td>0.386108</td>\n",
       "      <td>...</td>\n",
       "      <td>0.0</td>\n",
       "      <td>0.0</td>\n",
       "      <td>0.000000</td>\n",
       "      <td>0.487364</td>\n",
       "      <td>0.0</td>\n",
       "      <td>0.0</td>\n",
       "      <td>0.0</td>\n",
       "      <td>0.0</td>\n",
       "      <td>0.0</td>\n",
       "      <td>0.0</td>\n",
       "    </tr>\n",
       "    <tr>\n",
       "      <th>Detective Conan Magic File 4: Osaka Okonomiyaki Odyssey</th>\n",
       "      <td>0.000000</td>\n",
       "      <td>0.0</td>\n",
       "      <td>0.000000</td>\n",
       "      <td>0.000000</td>\n",
       "      <td>0.000000</td>\n",
       "      <td>0.000000</td>\n",
       "      <td>0.68494</td>\n",
       "      <td>0.0</td>\n",
       "      <td>0.0</td>\n",
       "      <td>0.000000</td>\n",
       "      <td>...</td>\n",
       "      <td>0.0</td>\n",
       "      <td>0.0</td>\n",
       "      <td>0.000000</td>\n",
       "      <td>0.000000</td>\n",
       "      <td>0.0</td>\n",
       "      <td>0.0</td>\n",
       "      <td>0.0</td>\n",
       "      <td>0.0</td>\n",
       "      <td>0.0</td>\n",
       "      <td>0.0</td>\n",
       "    </tr>\n",
       "  </tbody>\n",
       "</table>\n",
       "<p>10 rows × 22 columns</p>\n",
       "</div>"
      ],
      "text/plain": [
       "                                                       drama  samurai   \n",
       "title                                                                   \n",
       "Penguin no Mondai Movie                             0.000000      0.0  \\\n",
       "Dance in the Vampire Bund Recap                     0.000000      0.0   \n",
       "Casshern Sins                                       0.361663      0.0   \n",
       "Soliton no Akuma                                    0.435169      0.0   \n",
       "Chouon Senshi Borgman: Lovers Rain                  0.000000      0.0   \n",
       "The Siamese: First Mission                          0.000000      0.0   \n",
       "Working!!                                           0.000000      0.0   \n",
       "Genei Toshi                                         0.000000      0.0   \n",
       "Macross Plus                                        0.307619      0.0   \n",
       "Detective Conan Magic File 4: Osaka Okonomiyaki...  0.000000      0.0   \n",
       "\n",
       "                                                        kids  military   \n",
       "title                                                                    \n",
       "Penguin no Mondai Movie                             0.848476  0.000000  \\\n",
       "Dance in the Vampire Bund Recap                     0.000000  0.000000   \n",
       "Casshern Sins                                       0.000000  0.000000   \n",
       "Soliton no Akuma                                    0.000000  0.670109   \n",
       "Chouon Senshi Borgman: Lovers Rain                  0.000000  0.000000   \n",
       "The Siamese: First Mission                          0.000000  0.000000   \n",
       "Working!!                                           0.000000  0.000000   \n",
       "Genei Toshi                                         0.000000  0.000000   \n",
       "Macross Plus                                        0.000000  0.473698   \n",
       "Detective Conan Magic File 4: Osaka Okonomiyaki...  0.000000  0.000000   \n",
       "\n",
       "                                                    adventure  supernatural   \n",
       "title                                                                         \n",
       "Penguin no Mondai Movie                              0.000000      0.000000  \\\n",
       "Dance in the Vampire Bund Recap                      0.000000      0.484543   \n",
       "Casshern Sins                                        0.339991      0.000000   \n",
       "Soliton no Akuma                                     0.000000      0.000000   \n",
       "Chouon Senshi Borgman: Lovers Rain                   0.000000      0.000000   \n",
       "The Siamese: First Mission                           0.000000      0.000000   \n",
       "Working!!                                            0.000000      0.000000   \n",
       "Genei Toshi                                          0.000000      0.000000   \n",
       "Macross Plus                                         0.000000      0.000000   \n",
       "Detective Conan Magic File 4: Osaka Okonomiyaki...   0.000000      0.000000   \n",
       "\n",
       "                                                     police  fantasy   \n",
       "title                                                                  \n",
       "Penguin no Mondai Movie                             0.00000      0.0  \\\n",
       "Dance in the Vampire Bund Recap                     0.00000      0.0   \n",
       "Casshern Sins                                       0.00000      0.0   \n",
       "Soliton no Akuma                                    0.00000      0.0   \n",
       "Chouon Senshi Borgman: Lovers Rain                  0.00000      0.0   \n",
       "The Siamese: First Mission                          0.00000      0.0   \n",
       "Working!!                                           0.00000      0.0   \n",
       "Genei Toshi                                         0.00000      0.0   \n",
       "Macross Plus                                        0.00000      0.0   \n",
       "Detective Conan Magic File 4: Osaka Okonomiyaki...  0.68494      0.0   \n",
       "\n",
       "                                                    thriller     mecha  ...   \n",
       "title                                                                   ...   \n",
       "Penguin no Mondai Movie                                  0.0  0.000000  ...  \\\n",
       "Dance in the Vampire Bund Recap                          0.0  0.000000  ...   \n",
       "Casshern Sins                                            0.0  0.000000  ...   \n",
       "Soliton no Akuma                                         0.0  0.000000  ...   \n",
       "Chouon Senshi Borgman: Lovers Rain                       0.0  0.000000  ...   \n",
       "The Siamese: First Mission                               0.0  0.000000  ...   \n",
       "Working!!                                                0.0  0.000000  ...   \n",
       "Genei Toshi                                              0.0  0.000000  ...   \n",
       "Macross Plus                                             0.0  0.386108  ...   \n",
       "Detective Conan Magic File 4: Osaka Okonomiyaki...       0.0  0.000000  ...   \n",
       "\n",
       "                                                    hentai  horror        of   \n",
       "title                                                                          \n",
       "Penguin no Mondai Movie                                0.0     0.0  0.000000  \\\n",
       "Dance in the Vampire Bund Recap                        0.0     0.0  0.000000   \n",
       "Casshern Sins                                          0.0     0.0  0.000000   \n",
       "Soliton no Akuma                                       0.0     0.0  0.000000   \n",
       "Chouon Senshi Borgman: Lovers Rain                     0.0     0.0  0.000000   \n",
       "The Siamese: First Mission                             0.0     0.0  0.000000   \n",
       "Working!!                                              0.0     0.0  0.546133   \n",
       "Genei Toshi                                            0.0     0.0  0.000000   \n",
       "Macross Plus                                           0.0     0.0  0.000000   \n",
       "Detective Conan Magic File 4: Osaka Okonomiyaki...     0.0     0.0  0.000000   \n",
       "\n",
       "                                                       space  yuri   \n",
       "title                                                                \n",
       "Penguin no Mondai Movie                             0.000000   0.0  \\\n",
       "Dance in the Vampire Bund Recap                     0.000000   0.0   \n",
       "Casshern Sins                                       0.000000   0.0   \n",
       "Soliton no Akuma                                    0.000000   0.0   \n",
       "Chouon Senshi Borgman: Lovers Rain                  0.000000   0.0   \n",
       "The Siamese: First Mission                          0.000000   0.0   \n",
       "Working!!                                           0.000000   0.0   \n",
       "Genei Toshi                                         0.000000   0.0   \n",
       "Macross Plus                                        0.487364   0.0   \n",
       "Detective Conan Magic File 4: Osaka Okonomiyaki...  0.000000   0.0   \n",
       "\n",
       "                                                    historical  power  arts   \n",
       "title                                                                         \n",
       "Penguin no Mondai Movie                                    0.0    0.0   0.0  \\\n",
       "Dance in the Vampire Bund Recap                            0.0    0.0   0.0   \n",
       "Casshern Sins                                              0.0    0.0   0.0   \n",
       "Soliton no Akuma                                           0.0    0.0   0.0   \n",
       "Chouon Senshi Borgman: Lovers Rain                         0.0    0.0   0.0   \n",
       "The Siamese: First Mission                                 0.0    0.0   0.0   \n",
       "Working!!                                                  0.0    0.0   0.0   \n",
       "Genei Toshi                                                0.0    0.0   0.0   \n",
       "Macross Plus                                               0.0    0.0   0.0   \n",
       "Detective Conan Magic File 4: Osaka Okonomiyaki...         0.0    0.0   0.0   \n",
       "\n",
       "                                                    josei  sports  \n",
       "title                                                              \n",
       "Penguin no Mondai Movie                               0.0     0.0  \n",
       "Dance in the Vampire Bund Recap                       0.0     0.0  \n",
       "Casshern Sins                                         0.0     0.0  \n",
       "Soliton no Akuma                                      0.0     0.0  \n",
       "Chouon Senshi Borgman: Lovers Rain                    0.0     0.0  \n",
       "The Siamese: First Mission                            0.0     0.0  \n",
       "Working!!                                             0.0     0.0  \n",
       "Genei Toshi                                           0.0     0.0  \n",
       "Macross Plus                                          0.0     0.0  \n",
       "Detective Conan Magic File 4: Osaka Okonomiyaki...    0.0     0.0  \n",
       "\n",
       "[10 rows x 22 columns]"
      ]
     },
     "execution_count": 28,
     "metadata": {},
     "output_type": "execute_result"
    }
   ],
   "source": [
    "# Membuat dataframe untuk melihat tf-idf matrix\n",
    "# Kolom diisi dengan genre\n",
    "# Baris diisi dengan judul anime\n",
    " \n",
    "pd.DataFrame(\n",
    "    tfidf_matrix.todense(), \n",
    "    columns=tfidf.get_feature_names_out(),\n",
    "    index=anime['title']\n",
    ").sample(22, axis=1).sample(10, axis=0)"
   ]
  },
  {
   "cell_type": "markdown",
   "metadata": {},
   "source": [
    "## Cosine Similarity"
   ]
  },
  {
   "cell_type": "markdown",
   "metadata": {},
   "source": [
    "Cosine similarity adalah sebuah metrik yang digunakan untuk mengukur sejauh mana dua vektor berada dalam posisi yang sama dalam ruang multidimensional. Ini sering digunakan dalam pemrosesan bahasa alami dan pengambilan informasi untuk mengukur seberapa mirip dua dokumen teks atau dua vektor fitur dalam konteks analisis teks. Cosine similarity mengukur kedekatan antara dua vektor dengan mengukur sudut antara vektor-vektor tersebut dalam ruang berdimensi tinggi.\n",
    "\n",
    "Cara kerja cosine similarity adalah sebagai berikut:\n",
    "1. Representasi vektor: Pertama, dokumen atau entitas yang ingin dibandingkan direpresentasikan sebagai vektor dalam ruang fitur. Dalam konteks pemrosesan teks, ini bisa berarti mewakili setiap dokumen sebagai vektor yang berisi nilai-nilai berdasarkan representasi seperti TF-IDF (Term Frequency-Inverse Document Frequency) atau word embeddings (misalnya, Word2Vec atau GloVe).\n",
    "2. Perhitungan dot product: Selanjutnya, cosine similarity mengukur dot product (hasil kali dalam) antara dua vektor yang ingin dibandingkan. Dot product adalah jumlah hasil perkalian elemen-elemen yang sesuai dari dua vektor.\n",
    "3. Pengukuran panjang vektor: Setiap vektor diukur panjangnya (magnitude) dalam ruang fitur. Ini dapat dihitung dengan menggunakan norma Euclidean (L2-norm) dari vektor.\n",
    "4. Perhitungan cosine similarity: Cosine similarity dihitung dengan membagi dot product dua vektor dengan hasil kali panjang vektor masing-masing. Rumusnya adalah sebagai berikut:\n",
    "$$\\text{Cosine Similarity (cos }\\theta) = \\frac{{\\mathbf{A} \\cdot \\mathbf{B}}}{{\\|\\mathbf{A}\\| \\cdot \\|\\mathbf{B}\\|}}$$\n",
    "* A dan B adalah dua vektor yang ingin dibandingkan.\n",
    "* (A . B) adalah dot product antara vektor A dan B.\n",
    "* ||A|| adalah panjang (magnitude) vektor A.\n",
    "* ||B|| adalah panjang (magnitude) vektor B.\n",
    "\n",
    "Hasil cosine similarity akan selalu dalam rentang nilai antara -1 hingga 1. Nilai 1 menunjukkan bahwa dua vektor adalah identik (sama persis), nilai 0 menunjukkan bahwa dua vektor adalah sepenuhnya ortogonal (tidak ada kesamaan), dan nilai -1 menunjukkan bahwa dua vektor adalah kebalikan sempurna satu sama lain dalam ruang fitur."
   ]
  },
  {
   "cell_type": "code",
   "execution_count": 29,
   "metadata": {},
   "outputs": [
    {
     "data": {
      "text/plain": [
       "array([[1.        , 0.77551957, 0.6465777 , ..., 0.12060759, 0.28124296,\n",
       "        0.25560902],\n",
       "       [0.77551957, 1.        , 0.51744148, ..., 0.11439794, 0.26676278,\n",
       "        0.        ],\n",
       "       [0.6465777 , 0.51744148, 1.        , ..., 0.18653225, 0.43497164,\n",
       "        0.39532607],\n",
       "       ...,\n",
       "       [0.12060759, 0.11439794, 0.18653225, ..., 1.        , 0.        ,\n",
       "        0.        ],\n",
       "       [0.28124296, 0.26676278, 0.43497164, ..., 0.        , 1.        ,\n",
       "        0.        ],\n",
       "       [0.25560902, 0.        , 0.39532607, ..., 0.        , 0.        ,\n",
       "        1.        ]])"
      ]
     },
     "execution_count": 29,
     "metadata": {},
     "output_type": "execute_result"
    }
   ],
   "source": [
    "# Menghitung cosine similarity pada matrix tf-idf\n",
    "cosine_sim = cosine_similarity(tfidf_matrix) \n",
    "cosine_sim"
   ]
  },
  {
   "cell_type": "code",
   "execution_count": 30,
   "metadata": {},
   "outputs": [
    {
     "name": "stdout",
     "output_type": "stream",
     "text": [
      "Shape: (11194, 11194)\n"
     ]
    },
    {
     "data": {
      "text/html": [
       "<div>\n",
       "<style scoped>\n",
       "    .dataframe tbody tr th:only-of-type {\n",
       "        vertical-align: middle;\n",
       "    }\n",
       "\n",
       "    .dataframe tbody tr th {\n",
       "        vertical-align: top;\n",
       "    }\n",
       "\n",
       "    .dataframe thead th {\n",
       "        text-align: right;\n",
       "    }\n",
       "</style>\n",
       "<table border=\"1\" class=\"dataframe\">\n",
       "  <thead>\n",
       "    <tr style=\"text-align: right;\">\n",
       "      <th>title</th>\n",
       "      <th>Reideen</th>\n",
       "      <th>Yahari Ore no Seishun Love Comedy wa Machigatteiru. Zoku</th>\n",
       "      <th>Akai Boushi</th>\n",
       "      <th>Bakuretsu Hunters</th>\n",
       "      <th>Anime TV de Hakken! Tamagotchi</th>\n",
       "    </tr>\n",
       "    <tr>\n",
       "      <th>title</th>\n",
       "      <th></th>\n",
       "      <th></th>\n",
       "      <th></th>\n",
       "      <th></th>\n",
       "      <th></th>\n",
       "    </tr>\n",
       "  </thead>\n",
       "  <tbody>\n",
       "    <tr>\n",
       "      <th>Maid of the Dead</th>\n",
       "      <td>0.000000</td>\n",
       "      <td>0.139915</td>\n",
       "      <td>0.000000</td>\n",
       "      <td>0.096223</td>\n",
       "      <td>0.107812</td>\n",
       "    </tr>\n",
       "    <tr>\n",
       "      <th>Tono to Issho: Ippunkan Gekijou</th>\n",
       "      <td>0.000000</td>\n",
       "      <td>0.097310</td>\n",
       "      <td>0.000000</td>\n",
       "      <td>0.066922</td>\n",
       "      <td>0.074982</td>\n",
       "    </tr>\n",
       "    <tr>\n",
       "      <th>Alps no Shoujo Heidi: Alm no Yama-hen</th>\n",
       "      <td>0.000000</td>\n",
       "      <td>0.187309</td>\n",
       "      <td>0.651516</td>\n",
       "      <td>0.000000</td>\n",
       "      <td>0.605501</td>\n",
       "    </tr>\n",
       "    <tr>\n",
       "      <th>Momotarou</th>\n",
       "      <td>0.000000</td>\n",
       "      <td>0.495184</td>\n",
       "      <td>0.000000</td>\n",
       "      <td>0.000000</td>\n",
       "      <td>0.000000</td>\n",
       "    </tr>\n",
       "    <tr>\n",
       "      <th>Yama Nezumi Rocky Chuck</th>\n",
       "      <td>0.000000</td>\n",
       "      <td>0.000000</td>\n",
       "      <td>0.000000</td>\n",
       "      <td>0.349396</td>\n",
       "      <td>0.475227</td>\n",
       "    </tr>\n",
       "    <tr>\n",
       "      <th>Mizu no Tane</th>\n",
       "      <td>0.000000</td>\n",
       "      <td>0.000000</td>\n",
       "      <td>0.000000</td>\n",
       "      <td>0.000000</td>\n",
       "      <td>0.000000</td>\n",
       "    </tr>\n",
       "    <tr>\n",
       "      <th>Ai wa Kagi no Kazu dake... Fuuzoku Mansion</th>\n",
       "      <td>0.000000</td>\n",
       "      <td>0.000000</td>\n",
       "      <td>0.000000</td>\n",
       "      <td>0.000000</td>\n",
       "      <td>0.000000</td>\n",
       "    </tr>\n",
       "    <tr>\n",
       "      <th>Najica Dengeki Sakusen</th>\n",
       "      <td>0.573005</td>\n",
       "      <td>0.108205</td>\n",
       "      <td>0.000000</td>\n",
       "      <td>0.367055</td>\n",
       "      <td>0.083378</td>\n",
       "    </tr>\n",
       "    <tr>\n",
       "      <th>Toki wo Kakeru Shoujo</th>\n",
       "      <td>0.414984</td>\n",
       "      <td>0.487785</td>\n",
       "      <td>0.000000</td>\n",
       "      <td>0.134666</td>\n",
       "      <td>0.000000</td>\n",
       "    </tr>\n",
       "    <tr>\n",
       "      <th>Gakuen Heaven</th>\n",
       "      <td>0.000000</td>\n",
       "      <td>0.668921</td>\n",
       "      <td>0.000000</td>\n",
       "      <td>0.175928</td>\n",
       "      <td>0.062348</td>\n",
       "    </tr>\n",
       "  </tbody>\n",
       "</table>\n",
       "</div>"
      ],
      "text/plain": [
       "title                                        Reideen   \n",
       "title                                                  \n",
       "Maid of the Dead                            0.000000  \\\n",
       "Tono to Issho: Ippunkan Gekijou             0.000000   \n",
       "Alps no Shoujo Heidi: Alm no Yama-hen       0.000000   \n",
       "Momotarou                                   0.000000   \n",
       "Yama Nezumi Rocky Chuck                     0.000000   \n",
       "Mizu no Tane                                0.000000   \n",
       "Ai wa Kagi no Kazu dake... Fuuzoku Mansion  0.000000   \n",
       "Najica Dengeki Sakusen                      0.573005   \n",
       "Toki wo Kakeru Shoujo                       0.414984   \n",
       "Gakuen Heaven                               0.000000   \n",
       "\n",
       "title                                       Yahari Ore no Seishun Love Comedy wa Machigatteiru. Zoku   \n",
       "title                                                                                                  \n",
       "Maid of the Dead                                                                     0.139915         \\\n",
       "Tono to Issho: Ippunkan Gekijou                                                      0.097310          \n",
       "Alps no Shoujo Heidi: Alm no Yama-hen                                                0.187309          \n",
       "Momotarou                                                                            0.495184          \n",
       "Yama Nezumi Rocky Chuck                                                              0.000000          \n",
       "Mizu no Tane                                                                         0.000000          \n",
       "Ai wa Kagi no Kazu dake... Fuuzoku Mansion                                           0.000000          \n",
       "Najica Dengeki Sakusen                                                               0.108205          \n",
       "Toki wo Kakeru Shoujo                                                                0.487785          \n",
       "Gakuen Heaven                                                                        0.668921          \n",
       "\n",
       "title                                       Akai Boushi  Bakuretsu Hunters   \n",
       "title                                                                        \n",
       "Maid of the Dead                               0.000000           0.096223  \\\n",
       "Tono to Issho: Ippunkan Gekijou                0.000000           0.066922   \n",
       "Alps no Shoujo Heidi: Alm no Yama-hen          0.651516           0.000000   \n",
       "Momotarou                                      0.000000           0.000000   \n",
       "Yama Nezumi Rocky Chuck                        0.000000           0.349396   \n",
       "Mizu no Tane                                   0.000000           0.000000   \n",
       "Ai wa Kagi no Kazu dake... Fuuzoku Mansion     0.000000           0.000000   \n",
       "Najica Dengeki Sakusen                         0.000000           0.367055   \n",
       "Toki wo Kakeru Shoujo                          0.000000           0.134666   \n",
       "Gakuen Heaven                                  0.000000           0.175928   \n",
       "\n",
       "title                                       Anime TV de Hakken! Tamagotchi  \n",
       "title                                                                       \n",
       "Maid of the Dead                                                  0.107812  \n",
       "Tono to Issho: Ippunkan Gekijou                                   0.074982  \n",
       "Alps no Shoujo Heidi: Alm no Yama-hen                             0.605501  \n",
       "Momotarou                                                         0.000000  \n",
       "Yama Nezumi Rocky Chuck                                           0.475227  \n",
       "Mizu no Tane                                                      0.000000  \n",
       "Ai wa Kagi no Kazu dake... Fuuzoku Mansion                        0.000000  \n",
       "Najica Dengeki Sakusen                                            0.083378  \n",
       "Toki wo Kakeru Shoujo                                             0.000000  \n",
       "Gakuen Heaven                                                     0.062348  "
      ]
     },
     "execution_count": 30,
     "metadata": {},
     "output_type": "execute_result"
    }
   ],
   "source": [
    "# Membuat dataframe dari variabel cosine_sim dengan baris dan kolom berupa nama resto\n",
    "cosine_sim_df = pd.DataFrame(cosine_sim, index=anime['title'], columns=anime['title'])\n",
    "print('Shape:', cosine_sim_df.shape)\n",
    " \n",
    "# Melihat similarity matrix pada setiap resto\n",
    "cosine_sim_df.sample(5, axis=1).sample(10, axis=0)"
   ]
  },
  {
   "cell_type": "markdown",
   "metadata": {},
   "source": [
    "## Evaluate Model Untuk Mendapatkan Rekomendasi"
   ]
  },
  {
   "cell_type": "code",
   "execution_count": 31,
   "metadata": {},
   "outputs": [],
   "source": [
    "def anime_recommendations(nama_anime, similarity_data=cosine_sim_df, items=anime[['title', 'genre']], k=5):\n",
    "\n",
    "    # Mengambil data dengan menggunakan argpartition untuk melakukan partisi secara tidak langsung sepanjang sumbu yang diberikan    \n",
    "    # Dataframe diubah menjadi numpy\n",
    "    # Range(start, stop, step)\n",
    "    index = similarity_data.loc[:,nama_anime].to_numpy().argpartition(\n",
    "        range(-1, -k, -1))\n",
    "    \n",
    "    # Mengambil data dengan similarity terbesar dari index yang ada\n",
    "    closest = similarity_data.columns[index[-1:-(k+2):-1]]\n",
    "    \n",
    "    # Drop nama anime agar nama anime yang dicari tidak muncul dalam daftar rekomendasi\n",
    "    closest = closest.drop(nama_anime, errors='ignore')\n",
    " \n",
    "    return pd.DataFrame(closest).merge(items).head(k)"
   ]
  },
  {
   "cell_type": "markdown",
   "metadata": {},
   "source": [
    "Untuk mengevaluasi model dari content based filtering, akan dilakukan pengetesan secara langsung. Misalkan penonton telah menonton anime berjudul Kimi no Na Wa dengan genre yang meliputi yaitu Drama, Romance, School, dan Supernatural. Maka sistem akan merekomendasikan anime dengan judul yang serupa."
   ]
  },
  {
   "cell_type": "code",
   "execution_count": 32,
   "metadata": {},
   "outputs": [
    {
     "data": {
      "text/html": [
       "<div>\n",
       "<style scoped>\n",
       "    .dataframe tbody tr th:only-of-type {\n",
       "        vertical-align: middle;\n",
       "    }\n",
       "\n",
       "    .dataframe tbody tr th {\n",
       "        vertical-align: top;\n",
       "    }\n",
       "\n",
       "    .dataframe thead th {\n",
       "        text-align: right;\n",
       "    }\n",
       "</style>\n",
       "<table border=\"1\" class=\"dataframe\">\n",
       "  <thead>\n",
       "    <tr style=\"text-align: right;\">\n",
       "      <th></th>\n",
       "      <th>title</th>\n",
       "      <th>genre</th>\n",
       "    </tr>\n",
       "  </thead>\n",
       "  <tbody>\n",
       "    <tr>\n",
       "      <th>0</th>\n",
       "      <td>Wind: A Breath of Heart (TV)</td>\n",
       "      <td>Drama Romance School Supernatural</td>\n",
       "    </tr>\n",
       "    <tr>\n",
       "      <th>1</th>\n",
       "      <td>Wind: A Breath of Heart OVA</td>\n",
       "      <td>Drama Romance School Supernatural</td>\n",
       "    </tr>\n",
       "    <tr>\n",
       "      <th>2</th>\n",
       "      <td>Aura: Maryuuin Kouga Saigo no Tatakai</td>\n",
       "      <td>Comedy Drama Romance School Supernatural</td>\n",
       "    </tr>\n",
       "    <tr>\n",
       "      <th>3</th>\n",
       "      <td>Angel Beats!: Another Epilogue</td>\n",
       "      <td>Drama School Supernatural</td>\n",
       "    </tr>\n",
       "    <tr>\n",
       "      <th>4</th>\n",
       "      <td>Harmonie</td>\n",
       "      <td>Drama School Supernatural</td>\n",
       "    </tr>\n",
       "  </tbody>\n",
       "</table>\n",
       "</div>"
      ],
      "text/plain": [
       "                                   title   \n",
       "0           Wind: A Breath of Heart (TV)  \\\n",
       "1            Wind: A Breath of Heart OVA   \n",
       "2  Aura: Maryuuin Kouga Saigo no Tatakai   \n",
       "3         Angel Beats!: Another Epilogue   \n",
       "4                               Harmonie   \n",
       "\n",
       "                                      genre  \n",
       "0         Drama Romance School Supernatural  \n",
       "1         Drama Romance School Supernatural  \n",
       "2  Comedy Drama Romance School Supernatural  \n",
       "3                 Drama School Supernatural  \n",
       "4                 Drama School Supernatural  "
      ]
     },
     "execution_count": 32,
     "metadata": {},
     "output_type": "execute_result"
    }
   ],
   "source": [
    "anime_recommendations('Kimi no Na wa.')"
   ]
  },
  {
   "cell_type": "markdown",
   "metadata": {},
   "source": [
    "<h1 align='center'>Model Development dengan Collaborative Filtering</h1>\n",
    "\n",
    "***"
   ]
  },
  {
   "cell_type": "markdown",
   "metadata": {},
   "source": [
    "RecommenderNet adalah jenis sistem rekomendasi yang menggunakan pendekatan berbasis jaringan (network-based) untuk memberikan rekomendasi kepada pengguna. Sistem ini memanfaatkan informasi tentang hubungan atau koneksi antar entitas, seperti pengguna, item, atau bahkan entitas lain yang relevan, untuk menghasilkan rekomendasi yang lebih baik.\n",
    "\n",
    "Berikut beberapa hal yang dapat dicakup oleh RecommenderNet:\n",
    "1. Pengguna dan Item sebagai Node: Dalam RecommenderNet, pengguna dan item (misalnya, produk, film, atau konten lain) diwakili sebagai node dalam jaringan. Hubungan antara pengguna dan item, serta hubungan lain yang relevan, dinyatakan sebagai edge (sisi) di antara node-node ini.\n",
    "2. Model Jaringan: Model jaringan digunakan untuk menganalisis dan memahami struktur hubungan di antara node-node tersebut. Ini dapat mencakup model jaringan sosial, model grafik, atau model jaringan lainnya.\n",
    "3. Propagasi Informasi: Informasi atau preferensi dari satu node dapat \"mengalir\" atau \"menyebar\" melalui jaringan untuk mempengaruhi node lainnya. Ini memungkinkan model untuk memahami pengaruh pengguna terhadap item yang mereka sukai, serta pengaruh item terhadap preferensi pengguna.\n",
    "4. Klasifikasi dan Rekomendasi: Dengan memahami hubungan di antara node-node dalam jaringan, RecommenderNet dapat melakukan klasifikasi atau rekomendasi. Misalnya, jika seorang pengguna A memiliki hubungan dengan pengguna B dan pengguna B menyukai beberapa item, sistem dapat merekomendasikan item tersebut kepada pengguna A berdasarkan hubungan mereka dengan pengguna B.\n",
    "\n",
    "Keuntungan dari RecommenderNet adalah kemampuannya untuk memanfaatkan informasi struktural dan hubungan dalam jaringan untuk menghasilkan rekomendasi yang lebih kontekstual dan relevan. Ini dapat berguna dalam skenario seperti rekomendasi teman-teman dalam jaringan sosial, rekomendasi produk dalam jaringan e-commerce, atau rekomendasi konten dalam jaringan media sosial."
   ]
  },
  {
   "cell_type": "markdown",
   "metadata": {},
   "source": [
    "## Data Preprocessing"
   ]
  },
  {
   "cell_type": "markdown",
   "metadata": {},
   "source": [
    "Data rating_df diperlukan untuk melatih model dengan metode collaborative filtering, dikarenakan data tersebut berisikan penonton anime yang merating anime/film yang telah ditonton. Hal tersebut dapat menjadi suatu sistem rekomendasi dari pengguna ke pengguna lain."
   ]
  },
  {
   "cell_type": "code",
   "execution_count": 33,
   "metadata": {},
   "outputs": [
    {
     "data": {
      "text/html": [
       "<div>\n",
       "<style scoped>\n",
       "    .dataframe tbody tr th:only-of-type {\n",
       "        vertical-align: middle;\n",
       "    }\n",
       "\n",
       "    .dataframe tbody tr th {\n",
       "        vertical-align: top;\n",
       "    }\n",
       "\n",
       "    .dataframe thead th {\n",
       "        text-align: right;\n",
       "    }\n",
       "</style>\n",
       "<table border=\"1\" class=\"dataframe\">\n",
       "  <thead>\n",
       "    <tr style=\"text-align: right;\">\n",
       "      <th></th>\n",
       "      <th>user_id</th>\n",
       "      <th>anime_id</th>\n",
       "      <th>rating</th>\n",
       "    </tr>\n",
       "  </thead>\n",
       "  <tbody>\n",
       "    <tr>\n",
       "      <th>0</th>\n",
       "      <td>1</td>\n",
       "      <td>20</td>\n",
       "      <td>-1</td>\n",
       "    </tr>\n",
       "    <tr>\n",
       "      <th>1</th>\n",
       "      <td>1</td>\n",
       "      <td>24</td>\n",
       "      <td>-1</td>\n",
       "    </tr>\n",
       "    <tr>\n",
       "      <th>2</th>\n",
       "      <td>1</td>\n",
       "      <td>79</td>\n",
       "      <td>-1</td>\n",
       "    </tr>\n",
       "    <tr>\n",
       "      <th>3</th>\n",
       "      <td>1</td>\n",
       "      <td>226</td>\n",
       "      <td>-1</td>\n",
       "    </tr>\n",
       "    <tr>\n",
       "      <th>4</th>\n",
       "      <td>1</td>\n",
       "      <td>241</td>\n",
       "      <td>-1</td>\n",
       "    </tr>\n",
       "  </tbody>\n",
       "</table>\n",
       "</div>"
      ],
      "text/plain": [
       "   user_id  anime_id  rating\n",
       "0        1        20      -1\n",
       "1        1        24      -1\n",
       "2        1        79      -1\n",
       "3        1       226      -1\n",
       "4        1       241      -1"
      ]
     },
     "execution_count": 33,
     "metadata": {},
     "output_type": "execute_result"
    }
   ],
   "source": [
    "rating_df.head()"
   ]
  },
  {
   "cell_type": "code",
   "execution_count": 34,
   "metadata": {},
   "outputs": [
    {
     "data": {
      "text/plain": [
       "rating\n",
       " 8     1646019\n",
       "-1     1476496\n",
       " 7     1375287\n",
       " 9     1254096\n",
       " 10     955715\n",
       " 6      637775\n",
       " 5      282806\n",
       " 4      104291\n",
       " 3       41453\n",
       " 2       23150\n",
       " 1       16649\n",
       "Name: count, dtype: int64"
      ]
     },
     "execution_count": 34,
     "metadata": {},
     "output_type": "execute_result"
    }
   ],
   "source": [
    "# liat value dari rating\n",
    "rating_df['rating'].value_counts()"
   ]
  },
  {
   "cell_type": "markdown",
   "metadata": {},
   "source": [
    "Terdapat rating -1, dapat dilihat pada informasi dataset bahwa rating -1 dari user berarti user yang telah menonton suatu anime namun tidak merating anime tersebut. Maka nilai -1 akan dilakukan drop."
   ]
  },
  {
   "cell_type": "code",
   "execution_count": 35,
   "metadata": {},
   "outputs": [
    {
     "data": {
      "text/html": [
       "<div>\n",
       "<style scoped>\n",
       "    .dataframe tbody tr th:only-of-type {\n",
       "        vertical-align: middle;\n",
       "    }\n",
       "\n",
       "    .dataframe tbody tr th {\n",
       "        vertical-align: top;\n",
       "    }\n",
       "\n",
       "    .dataframe thead th {\n",
       "        text-align: right;\n",
       "    }\n",
       "</style>\n",
       "<table border=\"1\" class=\"dataframe\">\n",
       "  <thead>\n",
       "    <tr style=\"text-align: right;\">\n",
       "      <th></th>\n",
       "      <th>user_id</th>\n",
       "      <th>anime_id</th>\n",
       "      <th>rating</th>\n",
       "    </tr>\n",
       "  </thead>\n",
       "  <tbody>\n",
       "    <tr>\n",
       "      <th>0</th>\n",
       "      <td>1</td>\n",
       "      <td>8074</td>\n",
       "      <td>10</td>\n",
       "    </tr>\n",
       "    <tr>\n",
       "      <th>1</th>\n",
       "      <td>1</td>\n",
       "      <td>11617</td>\n",
       "      <td>10</td>\n",
       "    </tr>\n",
       "    <tr>\n",
       "      <th>2</th>\n",
       "      <td>1</td>\n",
       "      <td>11757</td>\n",
       "      <td>10</td>\n",
       "    </tr>\n",
       "    <tr>\n",
       "      <th>3</th>\n",
       "      <td>1</td>\n",
       "      <td>15451</td>\n",
       "      <td>10</td>\n",
       "    </tr>\n",
       "    <tr>\n",
       "      <th>4</th>\n",
       "      <td>2</td>\n",
       "      <td>11771</td>\n",
       "      <td>10</td>\n",
       "    </tr>\n",
       "  </tbody>\n",
       "</table>\n",
       "</div>"
      ],
      "text/plain": [
       "   user_id  anime_id  rating\n",
       "0        1      8074      10\n",
       "1        1     11617      10\n",
       "2        1     11757      10\n",
       "3        1     15451      10\n",
       "4        2     11771      10"
      ]
     },
     "execution_count": 35,
     "metadata": {},
     "output_type": "execute_result"
    }
   ],
   "source": [
    "rating_df = rating_df[rating_df['rating']!= -1]\n",
    "rating_df.reset_index(drop=True, inplace=True)\n",
    "rating_df.head()"
   ]
  },
  {
   "cell_type": "code",
   "execution_count": 36,
   "metadata": {},
   "outputs": [
    {
     "data": {
      "text/plain": [
       "rating\n",
       "8     1646019\n",
       "7     1375287\n",
       "9     1254096\n",
       "10     955715\n",
       "6      637775\n",
       "5      282806\n",
       "4      104291\n",
       "3       41453\n",
       "2       23150\n",
       "1       16649\n",
       "Name: count, dtype: int64"
      ]
     },
     "execution_count": 36,
     "metadata": {},
     "output_type": "execute_result"
    }
   ],
   "source": [
    "# Check kembali rating, apakah rating dengan nilai -1 masih ada atau tidak\n",
    "rating_df['rating'].value_counts()"
   ]
  },
  {
   "cell_type": "code",
   "execution_count": 37,
   "metadata": {},
   "outputs": [
    {
     "data": {
      "text/html": [
       "<div>\n",
       "<style scoped>\n",
       "    .dataframe tbody tr th:only-of-type {\n",
       "        vertical-align: middle;\n",
       "    }\n",
       "\n",
       "    .dataframe tbody tr th {\n",
       "        vertical-align: top;\n",
       "    }\n",
       "\n",
       "    .dataframe thead th {\n",
       "        text-align: right;\n",
       "    }\n",
       "</style>\n",
       "<table border=\"1\" class=\"dataframe\">\n",
       "  <thead>\n",
       "    <tr style=\"text-align: right;\">\n",
       "      <th></th>\n",
       "      <th>user_id</th>\n",
       "      <th>anime_id</th>\n",
       "      <th>rating</th>\n",
       "    </tr>\n",
       "  </thead>\n",
       "  <tbody>\n",
       "    <tr>\n",
       "      <th>0</th>\n",
       "      <td>1</td>\n",
       "      <td>8074</td>\n",
       "      <td>10</td>\n",
       "    </tr>\n",
       "    <tr>\n",
       "      <th>1</th>\n",
       "      <td>1</td>\n",
       "      <td>11617</td>\n",
       "      <td>10</td>\n",
       "    </tr>\n",
       "    <tr>\n",
       "      <th>2</th>\n",
       "      <td>1</td>\n",
       "      <td>11757</td>\n",
       "      <td>10</td>\n",
       "    </tr>\n",
       "    <tr>\n",
       "      <th>3</th>\n",
       "      <td>1</td>\n",
       "      <td>15451</td>\n",
       "      <td>10</td>\n",
       "    </tr>\n",
       "    <tr>\n",
       "      <th>4</th>\n",
       "      <td>2</td>\n",
       "      <td>11771</td>\n",
       "      <td>10</td>\n",
       "    </tr>\n",
       "  </tbody>\n",
       "</table>\n",
       "</div>"
      ],
      "text/plain": [
       "   user_id  anime_id  rating\n",
       "0        1      8074      10\n",
       "1        1     11617      10\n",
       "2        1     11757      10\n",
       "3        1     15451      10\n",
       "4        2     11771      10"
      ]
     },
     "execution_count": 37,
     "metadata": {},
     "output_type": "execute_result"
    }
   ],
   "source": [
    "rating_df.head()"
   ]
  },
  {
   "cell_type": "code",
   "execution_count": 38,
   "metadata": {},
   "outputs": [],
   "source": [
    "# Encoder user_id\n",
    "user_ids = rating_df[\"user_id\"].unique().tolist()\n",
    "user2user_encoded = {x: i for i, x in enumerate(user_ids)}\n",
    "userencoded2user = {i: x for i, x in enumerate(user_ids)}"
   ]
  },
  {
   "cell_type": "code",
   "execution_count": 39,
   "metadata": {},
   "outputs": [],
   "source": [
    "# Encoder anime_id\n",
    "anime_ids = rating_df[\"anime_id\"].unique().tolist()\n",
    "anime2anime_encoded = {x: i for i, x in enumerate(anime_ids)}\n",
    "anime_encoded2anime = {i: x for i, x in enumerate(anime_ids)}"
   ]
  },
  {
   "cell_type": "code",
   "execution_count": 40,
   "metadata": {},
   "outputs": [
    {
     "data": {
      "text/html": [
       "<div>\n",
       "<style scoped>\n",
       "    .dataframe tbody tr th:only-of-type {\n",
       "        vertical-align: middle;\n",
       "    }\n",
       "\n",
       "    .dataframe tbody tr th {\n",
       "        vertical-align: top;\n",
       "    }\n",
       "\n",
       "    .dataframe thead th {\n",
       "        text-align: right;\n",
       "    }\n",
       "</style>\n",
       "<table border=\"1\" class=\"dataframe\">\n",
       "  <thead>\n",
       "    <tr style=\"text-align: right;\">\n",
       "      <th></th>\n",
       "      <th>user_id</th>\n",
       "      <th>anime_id</th>\n",
       "      <th>rating</th>\n",
       "      <th>user</th>\n",
       "      <th>anime</th>\n",
       "    </tr>\n",
       "  </thead>\n",
       "  <tbody>\n",
       "    <tr>\n",
       "      <th>0</th>\n",
       "      <td>1</td>\n",
       "      <td>8074</td>\n",
       "      <td>10</td>\n",
       "      <td>0</td>\n",
       "      <td>0</td>\n",
       "    </tr>\n",
       "    <tr>\n",
       "      <th>1</th>\n",
       "      <td>1</td>\n",
       "      <td>11617</td>\n",
       "      <td>10</td>\n",
       "      <td>0</td>\n",
       "      <td>1</td>\n",
       "    </tr>\n",
       "    <tr>\n",
       "      <th>2</th>\n",
       "      <td>1</td>\n",
       "      <td>11757</td>\n",
       "      <td>10</td>\n",
       "      <td>0</td>\n",
       "      <td>2</td>\n",
       "    </tr>\n",
       "    <tr>\n",
       "      <th>3</th>\n",
       "      <td>1</td>\n",
       "      <td>15451</td>\n",
       "      <td>10</td>\n",
       "      <td>0</td>\n",
       "      <td>3</td>\n",
       "    </tr>\n",
       "    <tr>\n",
       "      <th>4</th>\n",
       "      <td>2</td>\n",
       "      <td>11771</td>\n",
       "      <td>10</td>\n",
       "      <td>1</td>\n",
       "      <td>4</td>\n",
       "    </tr>\n",
       "  </tbody>\n",
       "</table>\n",
       "</div>"
      ],
      "text/plain": [
       "   user_id  anime_id  rating  user  anime\n",
       "0        1      8074      10     0      0\n",
       "1        1     11617      10     0      1\n",
       "2        1     11757      10     0      2\n",
       "3        1     15451      10     0      3\n",
       "4        2     11771      10     1      4"
      ]
     },
     "execution_count": 40,
     "metadata": {},
     "output_type": "execute_result"
    }
   ],
   "source": [
    "# Menambahkan encoder anime_id dan user_id pada rating_df\n",
    "rating_df[\"user\"] = rating_df[\"user_id\"].map(user2user_encoded)\n",
    "rating_df[\"anime\"] = rating_df[\"anime_id\"].map(anime2anime_encoded)\n",
    "\n",
    "rating_df.head()"
   ]
  },
  {
   "cell_type": "code",
   "execution_count": 41,
   "metadata": {},
   "outputs": [
    {
     "name": "stdout",
     "output_type": "stream",
     "text": [
      "9927\n",
      "69600\n"
     ]
    }
   ],
   "source": [
    "# Mengetahui jumlah user dan anime\n",
    "num_users = len(user2user_encoded)\n",
    "num_animes = len(anime_encoded2anime)\n",
    "\n",
    "print(num_animes)\n",
    "print(num_users)"
   ]
  },
  {
   "cell_type": "code",
   "execution_count": 42,
   "metadata": {},
   "outputs": [
    {
     "name": "stdout",
     "output_type": "stream",
     "text": [
      "Number of users: 69600, Number of Movies: 9927, Min rating: 1.0, Max rating: 10.0\n"
     ]
    }
   ],
   "source": [
    "rating_df[\"rating\"] = rating_df[\"rating\"].values.astype(np.float32)\n",
    "# min and max ratings will be used to normalize the ratings later\n",
    "min_rating = min(rating_df[\"rating\"])\n",
    "max_rating = max(rating_df[\"rating\"])\n",
    "print(\n",
    "    \"Number of users: {}, Number of Movies: {}, Min rating: {}, Max rating: {}\".format(\n",
    "        num_users, num_animes, min_rating, max_rating\n",
    "    )\n",
    ")"
   ]
  },
  {
   "cell_type": "code",
   "execution_count": 43,
   "metadata": {},
   "outputs": [],
   "source": [
    "rating_df = rating_df.sample(frac=1, random_state=42)"
   ]
  },
  {
   "cell_type": "code",
   "execution_count": 44,
   "metadata": {},
   "outputs": [],
   "source": [
    "# Membagi data training dan testing\n",
    "x = rating_df[[\"user\", \"anime\"]].values\n",
    "\n",
    "y = rating_df[\"rating\"].apply(lambda x: (x - min_rating) / (max_rating - min_rating)).values\n",
    "\n",
    "train_indices = int(0.8 * rating_df.shape[0])\n",
    "x_train, x_val, y_train, y_val = (\n",
    "    x[:train_indices],\n",
    "    x[train_indices:],\n",
    "    y[:train_indices],\n",
    "    y[train_indices:],\n",
    ")\n"
   ]
  },
  {
   "cell_type": "markdown",
   "metadata": {},
   "source": [
    "## Training"
   ]
  },
  {
   "cell_type": "code",
   "execution_count": 45,
   "metadata": {},
   "outputs": [],
   "source": [
    "EMBEDDING_SIZE = 32\n",
    "class RecommenderNet(keras.Model):\n",
    "    def __init__(self, num_users, num_movies, embedding_size, **kwargs):\n",
    "        super(RecommenderNet, self).__init__(**kwargs)\n",
    "        self.num_users = num_users\n",
    "        self.num_movies = num_movies\n",
    "        self.embedding_size = embedding_size\n",
    "        self.user_embedding = layers.Embedding(\n",
    "            num_users,\n",
    "            embedding_size,\n",
    "            embeddings_initializer=\"he_normal\",\n",
    "            embeddings_regularizer=keras.regularizers.l2(1e-6),\n",
    "            mask_zero=True\n",
    "        )\n",
    "        self.user_bias = layers.Embedding(num_users, 1)\n",
    "        self.movie_embedding = layers.Embedding(\n",
    "            num_movies,\n",
    "            embedding_size,\n",
    "            embeddings_initializer=\"he_normal\",\n",
    "            embeddings_regularizer=keras.regularizers.l2(1e-6),\n",
    "            mask_zero=True\n",
    "        )\n",
    "        self.movie_bias = layers.Embedding(num_movies, 1)\n",
    "    def call(self, inputs):\n",
    "        user_vector = self.user_embedding(inputs[:, 0])\n",
    "        user_bias = self.user_bias(inputs[:, 0])\n",
    "        movie_vector = self.movie_embedding(inputs[:, 1])\n",
    "        movie_bias = self.movie_bias(inputs[:, 1])\n",
    "        dot_user_movie = tf.tensordot(user_vector, movie_vector, 2)\n",
    "        # Add all the components (including bias)\n",
    "        x = dot_user_movie + user_bias + movie_bias\n",
    "        # The sigmoid activation forces the rating to between 0 and 1\n",
    "        return tf.nn.sigmoid(x)"
   ]
  },
  {
   "cell_type": "code",
   "execution_count": 46,
   "metadata": {},
   "outputs": [],
   "source": [
    "model = RecommenderNet(num_users, num_animes, EMBEDDING_SIZE)\n",
    "# model compile\n",
    "model.compile(\n",
    "    loss = tf.keras.losses.BinaryCrossentropy(),\n",
    "    optimizer = keras.optimizers.Adam(learning_rate=0.001),\n",
    "    metrics=[tf.keras.metrics.RootMeanSquaredError()]\n",
    ")"
   ]
  },
  {
   "cell_type": "code",
   "execution_count": 47,
   "metadata": {},
   "outputs": [
    {
     "name": "stdout",
     "output_type": "stream",
     "text": [
      "Epoch 1/5\n",
      "79216/79216 [==============================] - 463s 6ms/step - loss: 0.5606 - root_mean_squared_error: 0.1691 - val_loss: 0.5762 - val_root_mean_squared_error: 0.1783\n",
      "Epoch 2/5\n",
      "79216/79216 [==============================] - 464s 6ms/step - loss: 0.5879 - root_mean_squared_error: 0.1851 - val_loss: 0.5955 - val_root_mean_squared_error: 0.1890\n",
      "Epoch 3/5\n",
      "79216/79216 [==============================] - 456s 6ms/step - loss: 0.6018 - root_mean_squared_error: 0.1924 - val_loss: 0.6075 - val_root_mean_squared_error: 0.1959\n",
      "Epoch 4/5\n",
      "79216/79216 [==============================] - 459s 6ms/step - loss: 0.6113 - root_mean_squared_error: 0.1979 - val_loss: 0.6146 - val_root_mean_squared_error: 0.1998\n",
      "Epoch 5/5\n",
      "79216/79216 [==============================] - 494s 6ms/step - loss: 0.6160 - root_mean_squared_error: 0.2003 - val_loss: 0.6174 - val_root_mean_squared_error: 0.2005\n"
     ]
    }
   ],
   "source": [
    "history = model.fit(\n",
    "    x=x_train,\n",
    "    y=y_train,\n",
    "    batch_size=64,\n",
    "    epochs=5,\n",
    "    verbose=1,\n",
    "    validation_data=(x_val, y_val),\n",
    ")"
   ]
  },
  {
   "cell_type": "code",
   "execution_count": 48,
   "metadata": {},
   "outputs": [
    {
     "name": "stdout",
     "output_type": "stream",
     "text": [
      "Model: \"recommender_net\"\n",
      "_________________________________________________________________\n",
      " Layer (type)                Output Shape              Param #   \n",
      "=================================================================\n",
      " embedding (Embedding)       multiple                  2227200   \n",
      "                                                                 \n",
      " embedding_1 (Embedding)     multiple                  69600     \n",
      "                                                                 \n",
      " embedding_2 (Embedding)     multiple                  317664    \n",
      "                                                                 \n",
      " embedding_3 (Embedding)     multiple                  9927      \n",
      "                                                                 \n",
      "=================================================================\n",
      "Total params: 2,624,391\n",
      "Trainable params: 2,624,391\n",
      "Non-trainable params: 0\n",
      "_________________________________________________________________\n",
      "39608/39608 [==============================] - 129s 3ms/step - loss: 0.5849 - root_mean_squared_error: 0.1721\n",
      "\\nTest Loss: [0.5849184989929199, 0.17210653424263]\n"
     ]
    }
   ],
   "source": [
    "# Evaluate model dan summary model\n",
    "model.summary()\n",
    "test_loss = model.evaluate(x_val, y_val)\n",
    "print('\\\\nTest Loss: {}'.format(test_loss))"
   ]
  },
  {
   "cell_type": "code",
   "execution_count": 49,
   "metadata": {},
   "outputs": [
    {
     "data": {
      "text/html": [
       "<div>\n",
       "<style scoped>\n",
       "    .dataframe tbody tr th:only-of-type {\n",
       "        vertical-align: middle;\n",
       "    }\n",
       "\n",
       "    .dataframe tbody tr th {\n",
       "        vertical-align: top;\n",
       "    }\n",
       "\n",
       "    .dataframe thead th {\n",
       "        text-align: right;\n",
       "    }\n",
       "</style>\n",
       "<table border=\"1\" class=\"dataframe\">\n",
       "  <thead>\n",
       "    <tr style=\"text-align: right;\">\n",
       "      <th></th>\n",
       "      <th>anime_id</th>\n",
       "      <th>title</th>\n",
       "      <th>genre</th>\n",
       "    </tr>\n",
       "  </thead>\n",
       "  <tbody>\n",
       "    <tr>\n",
       "      <th>0</th>\n",
       "      <td>1</td>\n",
       "      <td>Cowboy Bebop</td>\n",
       "      <td>Action Adventure Comedy Drama Sci-Fi Space</td>\n",
       "    </tr>\n",
       "    <tr>\n",
       "      <th>1</th>\n",
       "      <td>5</td>\n",
       "      <td>Cowboy Bebop: Tengoku no Tobira</td>\n",
       "      <td>Action Drama Mystery Sci-Fi Space</td>\n",
       "    </tr>\n",
       "    <tr>\n",
       "      <th>2</th>\n",
       "      <td>6</td>\n",
       "      <td>Trigun</td>\n",
       "      <td>Action Comedy Sci-Fi</td>\n",
       "    </tr>\n",
       "    <tr>\n",
       "      <th>3</th>\n",
       "      <td>7</td>\n",
       "      <td>Witch Hunter Robin</td>\n",
       "      <td>Action Drama Magic Mystery Police Supernatural</td>\n",
       "    </tr>\n",
       "    <tr>\n",
       "      <th>4</th>\n",
       "      <td>8</td>\n",
       "      <td>Beet the Vandel Buster</td>\n",
       "      <td>Adventure Fantasy Shounen Supernatural</td>\n",
       "    </tr>\n",
       "  </tbody>\n",
       "</table>\n",
       "</div>"
      ],
      "text/plain": [
       "   anime_id                            title   \n",
       "0         1                     Cowboy Bebop  \\\n",
       "1         5  Cowboy Bebop: Tengoku no Tobira   \n",
       "2         6                           Trigun   \n",
       "3         7               Witch Hunter Robin   \n",
       "4         8           Beet the Vandel Buster   \n",
       "\n",
       "                                            genre  \n",
       "0      Action Adventure Comedy Drama Sci-Fi Space  \n",
       "1               Action Drama Mystery Sci-Fi Space  \n",
       "2                            Action Comedy Sci-Fi  \n",
       "3  Action Drama Magic Mystery Police Supernatural  \n",
       "4          Adventure Fantasy Shounen Supernatural  "
      ]
     },
     "execution_count": 49,
     "metadata": {},
     "output_type": "execute_result"
    }
   ],
   "source": [
    "anime.head()"
   ]
  },
  {
   "cell_type": "markdown",
   "metadata": {},
   "source": [
    "## Mendapatkan Rekomendasi"
   ]
  },
  {
   "cell_type": "code",
   "execution_count": 50,
   "metadata": {},
   "outputs": [],
   "source": [
    "rat_df = pd.read_csv('./rating.csv')\n",
    "\n",
    "user_id = rat_df['user_id'].sample(1).iloc[0]\n",
    "anime_watched_by_user = rat_df[rat_df['user_id']==user_id]\n",
    "\n",
    "anime_not_watched = anime[~anime['anime_id'].isin(anime_watched_by_user['anime_id'].values)]['anime_id'] \n",
    "anime_not_watched = list(\n",
    "    set(anime_not_watched)\n",
    "    .intersection(set(anime2anime_encoded.keys()))\n",
    ")\n",
    "\n",
    "anime_not_watched = [[anime2anime_encoded.get(x)] for x in anime_not_watched]\n",
    "user_encoder = user2user_encoded.get(user_id)\n",
    "user_anime_array = np.hstack(\n",
    "    ([[user_encoder]] * len(anime_not_watched), anime_not_watched)\n",
    ")"
   ]
  },
  {
   "cell_type": "code",
   "execution_count": 51,
   "metadata": {},
   "outputs": [
    {
     "name": "stdout",
     "output_type": "stream",
     "text": [
      "258/258 [==============================] - 1s 2ms/step\n",
      "Showing recommendations for users: 49503\n",
      "===========================\n",
      "Anime with high ratings from user\n",
      "--------------------------------\n",
      "Cowboy Bebop : Action Adventure Comedy Drama Sci-Fi Space\n",
      "Onegai☆Teacher : Comedy Drama Romance School Sci-Fi\n",
      "Great Teacher Onizuka : Comedy Drama School Shounen Slice of Life\n",
      "Howl no Ugoku Shiro : Adventure Drama Fantasy Romance\n",
      "Onegai☆Teacher: Himitsu na Futari : Comedy Ecchi Romance Sci-Fi\n",
      "--------------------------------\n",
      "Top 10 anime recommendation\n",
      "--------------------------------\n",
      "Ginga Eiyuu Densetsu : Drama Military Sci-Fi Space\n",
      "Lupin III: Cagliostro no Shiro : Adventure Comedy Shounen\n",
      "Fate/Zero : Action Fantasy Supernatural\n",
      "Hunter x Hunter (2011) : Action Adventure Shounen Super Power\n",
      "Gintama Movie: Kanketsu-hen - Yorozuya yo Eien Nare : Action Comedy Historical Parody Samurai Sci-Fi Shounen\n",
      "Gintama&#039;: Enchousen : Action Comedy Historical Parody Samurai Sci-Fi Shounen\n",
      "Monogatari Series: Second Season : Comedy Mystery Romance Supernatural Vampire\n",
      "Gintama° : Action Comedy Historical Parody Samurai Sci-Fi Shounen\n",
      "Kimi no Na wa. : Drama Romance School Supernatural\n",
      "Haikyuu!!: Karasuno Koukou VS Shiratorizawa Gakuen Koukou : Comedy Drama School Shounen Sports\n"
     ]
    }
   ],
   "source": [
    "ratings = model.predict(user_anime_array).flatten()\n",
    "\n",
    "top_ratings_indices = ratings.argsort()[-10:][::-1]\n",
    "recommended_anime_ids = [\n",
    "    anime_encoded2anime.get(anime_not_watched[x][0]) for x in top_ratings_indices\n",
    "]\n",
    "\n",
    "print('Showing recommendations for users: {}'.format(user_id))\n",
    "print('===' * 9)\n",
    "print('Anime with high ratings from user')\n",
    "print('----' * 8)\n",
    "\n",
    "top_anime_user = (\n",
    "    anime_watched_by_user.sort_values(\n",
    "        by = 'rating',\n",
    "        ascending=False\n",
    "    )\n",
    "    .head(5)\n",
    "    .anime_id.values\n",
    ")\n",
    "\n",
    "anime_df_rows = anime[anime['anime_id'].isin(top_anime_user)]\n",
    "for row in anime_df_rows.itertuples():\n",
    "    print(row.title, ':', row.genre)\n",
    "    \n",
    "\n",
    "print('----' * 8)\n",
    "print('Top 10 anime recommendation')\n",
    "print('----' * 8)\n",
    " \n",
    "recommended_anime = anime[anime['anime_id'].isin(recommended_anime_ids)]\n",
    "for row in recommended_anime.itertuples():\n",
    "    print(row.title, ':', row.genre)"
   ]
  },
  {
   "cell_type": "markdown",
   "metadata": {},
   "source": [
    "Dapat dilihat anime yang user tersebut berikan rating tiggi diantaranya memiliki genre Action, Adventure, Comedy, Drama, Sci-Fi, Space, dan lain sebagainya. Lalu hasil rekomendasinya juga menampilkan anime dengan genre yang mirip-mirip dengan apa yang user 49503 berikan."
   ]
  },
  {
   "cell_type": "markdown",
   "metadata": {},
   "source": [
    "<h1 align='center'>Referensi</h1>\n",
    "\n",
    "***"
   ]
  },
  {
   "cell_type": "markdown",
   "metadata": {},
   "source": [
    "[1]\tS. Jayalakshmi, N. Ganesh, R. Čep, and J. S. Murugan, “Movie Recommender Systems: Concepts, Methods, Challenges, and Future Directions,” Sensors, vol. 22, no. 13, Jul. 2022, doi: 10.3390/s22134904.\n",
    "\n",
    "[2]\tH. S. Kusuma and A. Musdholifah, “Recommendation System for Thesis Topics Using Content-based Filtering,” IJCCS (Indonesian Journal of Computing and Cybernetics Systems), vol. 15, no. 1, p. 65, Jan. 2021, doi: 10.22146/ijccs.62716.\n",
    "\n",
    "[3]\tP. B. Thorat, R. M. Goudar, and S. Barve, “Survey on Collaborative Filtering, Content-based Filtering and Hybrid Recommendation System,” 2015.\n"
   ]
  }
 ],
 "metadata": {
  "kernelspec": {
   "display_name": "tf",
   "language": "python",
   "name": "python3"
  },
  "language_info": {
   "codemirror_mode": {
    "name": "ipython",
    "version": 3
   },
   "file_extension": ".py",
   "mimetype": "text/x-python",
   "name": "python",
   "nbconvert_exporter": "python",
   "pygments_lexer": "ipython3",
   "version": "3.9.16"
  },
  "orig_nbformat": 4
 },
 "nbformat": 4,
 "nbformat_minor": 2
}
